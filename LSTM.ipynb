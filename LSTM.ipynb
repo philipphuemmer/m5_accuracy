{
 "metadata": {
  "kernelspec": {
   "language": "python",
   "display_name": "Python 3",
   "name": "python3"
  },
  "language_info": {
   "name": "python",
   "version": "3.7.6",
   "mimetype": "text/x-python",
   "codemirror_mode": {
    "name": "ipython",
    "version": 3
   },
   "pygments_lexer": "ipython3",
   "nbconvert_exporter": "python",
   "file_extension": ".py"
  },
  "kaggle": {
   "accelerator": "gpu",
   "dataSources": [
    {
     "sourceId": 18599,
     "databundleVersionId": 1236839,
     "sourceType": "competition"
    }
   ],
   "dockerImageVersionId": 29908,
   "isInternetEnabled": false,
   "language": "python",
   "sourceType": "notebook",
   "isGpuEnabled": true
  }
 },
 "nbformat_minor": 4,
 "nbformat": 4,
 "cells": [
  {
   "cell_type": "code",
   "source": [
    "\n",
    "import numpy as np \n",
    "import pandas as pd \n"
   ],
   "metadata": {
    "_uuid": "8f2839f25d086af736a60e9eeb907d3b93b6e0e5",
    "_cell_guid": "b1076dfc-b9ad-4769-8c92-a6c4dae69d19",
    "execution": {
     "iopub.status.busy": "2024-04-06T13:02:04.482495Z",
     "iopub.execute_input": "2024-04-06T13:02:04.482841Z",
     "iopub.status.idle": "2024-04-06T13:02:04.487203Z",
     "shell.execute_reply.started": "2024-04-06T13:02:04.482791Z",
     "shell.execute_reply": "2024-04-06T13:02:04.486082Z"
    },
    "trusted": true
   },
   "execution_count": 1,
   "outputs": []
  },
  {
   "cell_type": "markdown",
   "source": [
    "# Data Prepration for LSTM\n"
   ],
   "metadata": {}
  },
  {
   "cell_type": "markdown",
   "source": [
    "* Below timesteps is set to 14 to use past 14 days' sales.\n",
    "* Since there are lots of zero values in first days, \"startDay\" parameter can be used ignore unwanted days from the beginning."
   ],
   "metadata": {}
  },
  {
   "cell_type": "code",
   "source": [
    "# Gegebenfalls anpassen\n",
    "dataPath = \"/kaggle/input/m5-forecasting-accuracy/\"\n",
    "timesteps = 14\n",
    "startDay = 350"
   ],
   "metadata": {
    "_uuid": "d629ff2d2480ee46fbb7e2d37f6b5fab8052498a",
    "_cell_guid": "79c7e3d0-c299-4dcb-8224-4455121ee9b0",
    "execution": {
     "iopub.status.busy": "2024-04-06T13:02:21.945703Z",
     "iopub.execute_input": "2024-04-06T13:02:21.946075Z",
     "iopub.status.idle": "2024-04-06T13:02:21.950377Z",
     "shell.execute_reply.started": "2024-04-06T13:02:21.946029Z",
     "shell.execute_reply": "2024-04-06T13:02:21.949245Z"
    },
    "trusted": true
   },
   "execution_count": 2,
   "outputs": []
  },
  {
   "cell_type": "code",
   "source": [
    "dt = pd.read_csv(dataPath + \"/sales_train_evaluation.csv\")\n",
    "dt.head(3)\n"
   ],
   "metadata": {
    "execution": {
     "iopub.status.busy": "2024-04-06T13:02:24.411167Z",
     "iopub.execute_input": "2024-04-06T13:02:24.411514Z",
     "iopub.status.idle": "2024-04-06T13:02:31.980292Z",
     "shell.execute_reply.started": "2024-04-06T13:02:24.411470Z",
     "shell.execute_reply": "2024-04-06T13:02:31.979479Z"
    },
    "trusted": true
   },
   "execution_count": 3,
   "outputs": [
    {
     "execution_count": 3,
     "output_type": "execute_result",
     "data": {
      "text/plain": "                              id        item_id    dept_id   cat_id store_id  \\\n0  HOBBIES_1_001_CA_1_evaluation  HOBBIES_1_001  HOBBIES_1  HOBBIES     CA_1   \n1  HOBBIES_1_002_CA_1_evaluation  HOBBIES_1_002  HOBBIES_1  HOBBIES     CA_1   \n2  HOBBIES_1_003_CA_1_evaluation  HOBBIES_1_003  HOBBIES_1  HOBBIES     CA_1   \n\n  state_id  d_1  d_2  d_3  d_4  ...  d_1932  d_1933  d_1934  d_1935  d_1936  \\\n0       CA    0    0    0    0  ...       2       4       0       0       0   \n1       CA    0    0    0    0  ...       0       1       2       1       1   \n2       CA    0    0    0    0  ...       1       0       2       0       0   \n\n   d_1937  d_1938  d_1939  d_1940  d_1941  \n0       0       3       3       0       1  \n1       0       0       0       0       0  \n2       0       2       3       0       1  \n\n[3 rows x 1947 columns]",
      "text/html": "<div>\n<style scoped>\n    .dataframe tbody tr th:only-of-type {\n        vertical-align: middle;\n    }\n\n    .dataframe tbody tr th {\n        vertical-align: top;\n    }\n\n    .dataframe thead th {\n        text-align: right;\n    }\n</style>\n<table border=\"1\" class=\"dataframe\">\n  <thead>\n    <tr style=\"text-align: right;\">\n      <th></th>\n      <th>id</th>\n      <th>item_id</th>\n      <th>dept_id</th>\n      <th>cat_id</th>\n      <th>store_id</th>\n      <th>state_id</th>\n      <th>d_1</th>\n      <th>d_2</th>\n      <th>d_3</th>\n      <th>d_4</th>\n      <th>...</th>\n      <th>d_1932</th>\n      <th>d_1933</th>\n      <th>d_1934</th>\n      <th>d_1935</th>\n      <th>d_1936</th>\n      <th>d_1937</th>\n      <th>d_1938</th>\n      <th>d_1939</th>\n      <th>d_1940</th>\n      <th>d_1941</th>\n    </tr>\n  </thead>\n  <tbody>\n    <tr>\n      <th>0</th>\n      <td>HOBBIES_1_001_CA_1_evaluation</td>\n      <td>HOBBIES_1_001</td>\n      <td>HOBBIES_1</td>\n      <td>HOBBIES</td>\n      <td>CA_1</td>\n      <td>CA</td>\n      <td>0</td>\n      <td>0</td>\n      <td>0</td>\n      <td>0</td>\n      <td>...</td>\n      <td>2</td>\n      <td>4</td>\n      <td>0</td>\n      <td>0</td>\n      <td>0</td>\n      <td>0</td>\n      <td>3</td>\n      <td>3</td>\n      <td>0</td>\n      <td>1</td>\n    </tr>\n    <tr>\n      <th>1</th>\n      <td>HOBBIES_1_002_CA_1_evaluation</td>\n      <td>HOBBIES_1_002</td>\n      <td>HOBBIES_1</td>\n      <td>HOBBIES</td>\n      <td>CA_1</td>\n      <td>CA</td>\n      <td>0</td>\n      <td>0</td>\n      <td>0</td>\n      <td>0</td>\n      <td>...</td>\n      <td>0</td>\n      <td>1</td>\n      <td>2</td>\n      <td>1</td>\n      <td>1</td>\n      <td>0</td>\n      <td>0</td>\n      <td>0</td>\n      <td>0</td>\n      <td>0</td>\n    </tr>\n    <tr>\n      <th>2</th>\n      <td>HOBBIES_1_003_CA_1_evaluation</td>\n      <td>HOBBIES_1_003</td>\n      <td>HOBBIES_1</td>\n      <td>HOBBIES</td>\n      <td>CA_1</td>\n      <td>CA</td>\n      <td>0</td>\n      <td>0</td>\n      <td>0</td>\n      <td>0</td>\n      <td>...</td>\n      <td>1</td>\n      <td>0</td>\n      <td>2</td>\n      <td>0</td>\n      <td>0</td>\n      <td>0</td>\n      <td>2</td>\n      <td>3</td>\n      <td>0</td>\n      <td>1</td>\n    </tr>\n  </tbody>\n</table>\n<p>3 rows × 1947 columns</p>\n</div>"
     },
     "metadata": {}
    }
   ]
  },
  {
   "cell_type": "code",
   "source": [
    "#To reduce memory usage\n",
    "def downcast_dtypes(df):\n",
    "    float_cols = [c for c in df if df[c].dtype == \"float64\"]\n",
    "    int_cols = [c for c in df if df[c].dtype in [\"int64\", \"int32\"]]\n",
    "    df[float_cols] = df[float_cols].astype(np.float32)\n",
    "    df[int_cols] = df[int_cols].astype(np.int16)\n",
    "    return df"
   ],
   "metadata": {
    "execution": {
     "iopub.status.busy": "2024-04-06T13:02:36.020784Z",
     "iopub.execute_input": "2024-04-06T13:02:36.021218Z",
     "iopub.status.idle": "2024-04-06T13:02:36.027616Z",
     "shell.execute_reply.started": "2024-04-06T13:02:36.021156Z",
     "shell.execute_reply": "2024-04-06T13:02:36.026645Z"
    },
    "trusted": true
   },
   "execution_count": 5,
   "outputs": []
  },
  {
   "cell_type": "code",
   "source": [
    "#Reduce memory usage and compare with the previous one to be sure\n",
    "dt = downcast_dtypes(dt)"
   ],
   "metadata": {
    "execution": {
     "iopub.status.busy": "2024-04-06T13:02:37.796287Z",
     "iopub.execute_input": "2024-04-06T13:02:37.796743Z",
     "iopub.status.idle": "2024-04-06T13:04:51.400543Z",
     "shell.execute_reply.started": "2024-04-06T13:02:37.796688Z",
     "shell.execute_reply": "2024-04-06T13:04:51.399550Z"
    },
    "trusted": true
   },
   "execution_count": 6,
   "outputs": []
  },
  {
   "cell_type": "code",
   "source": [
    "print(dt.info())"
   ],
   "metadata": {
    "execution": {
     "iopub.status.busy": "2024-04-06T13:08:50.730368Z",
     "iopub.execute_input": "2024-04-06T13:08:50.730768Z",
     "iopub.status.idle": "2024-04-06T13:08:50.951042Z",
     "shell.execute_reply.started": "2024-04-06T13:08:50.730718Z",
     "shell.execute_reply": "2024-04-06T13:08:50.949645Z"
    },
    "trusted": true
   },
   "execution_count": 7,
   "outputs": [
    {
     "name": "stdout",
     "text": "<class 'pandas.core.frame.DataFrame'>\nRangeIndex: 30490 entries, 0 to 30489\nColumns: 1947 entries, id to d_1941\ndtypes: int16(1941), object(6)\nmemory usage: 114.3+ MB\nNone\n",
     "output_type": "stream"
    }
   ]
  },
  {
   "cell_type": "code",
   "source": [
    "# Transponiere Daten -> Tage als Reihen, 30.490 Produkt als Spalten\n",
    "dt = dt.T    \n",
    "dt.head(8)"
   ],
   "metadata": {
    "execution": {
     "iopub.status.busy": "2024-04-06T13:08:52.874315Z",
     "iopub.execute_input": "2024-04-06T13:08:52.874679Z",
     "iopub.status.idle": "2024-04-06T13:09:00.676141Z",
     "shell.execute_reply.started": "2024-04-06T13:08:52.874634Z",
     "shell.execute_reply": "2024-04-06T13:09:00.675131Z"
    },
    "trusted": true
   },
   "execution_count": 8,
   "outputs": [
    {
     "execution_count": 8,
     "output_type": "execute_result",
     "data": {
      "text/plain": "                                  0                              1      \\\nid        HOBBIES_1_001_CA_1_evaluation  HOBBIES_1_002_CA_1_evaluation   \nitem_id                   HOBBIES_1_001                  HOBBIES_1_002   \ndept_id                       HOBBIES_1                      HOBBIES_1   \ncat_id                          HOBBIES                        HOBBIES   \nstore_id                           CA_1                           CA_1   \nstate_id                             CA                             CA   \nd_1                                   0                              0   \nd_2                                   0                              0   \n\n                                  2                              3      \\\nid        HOBBIES_1_003_CA_1_evaluation  HOBBIES_1_004_CA_1_evaluation   \nitem_id                   HOBBIES_1_003                  HOBBIES_1_004   \ndept_id                       HOBBIES_1                      HOBBIES_1   \ncat_id                          HOBBIES                        HOBBIES   \nstore_id                           CA_1                           CA_1   \nstate_id                             CA                             CA   \nd_1                                   0                              0   \nd_2                                   0                              0   \n\n                                  4                              5      \\\nid        HOBBIES_1_005_CA_1_evaluation  HOBBIES_1_006_CA_1_evaluation   \nitem_id                   HOBBIES_1_005                  HOBBIES_1_006   \ndept_id                       HOBBIES_1                      HOBBIES_1   \ncat_id                          HOBBIES                        HOBBIES   \nstore_id                           CA_1                           CA_1   \nstate_id                             CA                             CA   \nd_1                                   0                              0   \nd_2                                   0                              0   \n\n                                  6                              7      \\\nid        HOBBIES_1_007_CA_1_evaluation  HOBBIES_1_008_CA_1_evaluation   \nitem_id                   HOBBIES_1_007                  HOBBIES_1_008   \ndept_id                       HOBBIES_1                      HOBBIES_1   \ncat_id                          HOBBIES                        HOBBIES   \nstore_id                           CA_1                           CA_1   \nstate_id                             CA                             CA   \nd_1                                   0                             12   \nd_2                                   0                             15   \n\n                                  8                              9      ...  \\\nid        HOBBIES_1_009_CA_1_evaluation  HOBBIES_1_010_CA_1_evaluation  ...   \nitem_id                   HOBBIES_1_009                  HOBBIES_1_010  ...   \ndept_id                       HOBBIES_1                      HOBBIES_1  ...   \ncat_id                          HOBBIES                        HOBBIES  ...   \nstore_id                           CA_1                           CA_1  ...   \nstate_id                             CA                             CA  ...   \nd_1                                   2                              0  ...   \nd_2                                   0                              0  ...   \n\n                                30480                        30481  \\\nid        FOODS_3_818_WI_3_evaluation  FOODS_3_819_WI_3_evaluation   \nitem_id                   FOODS_3_818                  FOODS_3_819   \ndept_id                       FOODS_3                      FOODS_3   \ncat_id                          FOODS                        FOODS   \nstore_id                         WI_3                         WI_3   \nstate_id                           WI                           WI   \nd_1                                 0                           14   \nd_2                                 0                           11   \n\n                                30482                        30483  \\\nid        FOODS_3_820_WI_3_evaluation  FOODS_3_821_WI_3_evaluation   \nitem_id                   FOODS_3_820                  FOODS_3_821   \ndept_id                       FOODS_3                      FOODS_3   \ncat_id                          FOODS                        FOODS   \nstore_id                         WI_3                         WI_3   \nstate_id                           WI                           WI   \nd_1                                 1                            0   \nd_2                                 1                            0   \n\n                                30484                        30485  \\\nid        FOODS_3_822_WI_3_evaluation  FOODS_3_823_WI_3_evaluation   \nitem_id                   FOODS_3_822                  FOODS_3_823   \ndept_id                       FOODS_3                      FOODS_3   \ncat_id                          FOODS                        FOODS   \nstore_id                         WI_3                         WI_3   \nstate_id                           WI                           WI   \nd_1                                 4                            0   \nd_2                                 4                            0   \n\n                                30486                        30487  \\\nid        FOODS_3_824_WI_3_evaluation  FOODS_3_825_WI_3_evaluation   \nitem_id                   FOODS_3_824                  FOODS_3_825   \ndept_id                       FOODS_3                      FOODS_3   \ncat_id                          FOODS                        FOODS   \nstore_id                         WI_3                         WI_3   \nstate_id                           WI                           WI   \nd_1                                 0                            0   \nd_2                                 0                            6   \n\n                                30488                        30489  \nid        FOODS_3_826_WI_3_evaluation  FOODS_3_827_WI_3_evaluation  \nitem_id                   FOODS_3_826                  FOODS_3_827  \ndept_id                       FOODS_3                      FOODS_3  \ncat_id                          FOODS                        FOODS  \nstore_id                         WI_3                         WI_3  \nstate_id                           WI                           WI  \nd_1                                 0                            0  \nd_2                                 0                            0  \n\n[8 rows x 30490 columns]",
      "text/html": "<div>\n<style scoped>\n    .dataframe tbody tr th:only-of-type {\n        vertical-align: middle;\n    }\n\n    .dataframe tbody tr th {\n        vertical-align: top;\n    }\n\n    .dataframe thead th {\n        text-align: right;\n    }\n</style>\n<table border=\"1\" class=\"dataframe\">\n  <thead>\n    <tr style=\"text-align: right;\">\n      <th></th>\n      <th>0</th>\n      <th>1</th>\n      <th>2</th>\n      <th>3</th>\n      <th>4</th>\n      <th>5</th>\n      <th>6</th>\n      <th>7</th>\n      <th>8</th>\n      <th>9</th>\n      <th>...</th>\n      <th>30480</th>\n      <th>30481</th>\n      <th>30482</th>\n      <th>30483</th>\n      <th>30484</th>\n      <th>30485</th>\n      <th>30486</th>\n      <th>30487</th>\n      <th>30488</th>\n      <th>30489</th>\n    </tr>\n  </thead>\n  <tbody>\n    <tr>\n      <th>id</th>\n      <td>HOBBIES_1_001_CA_1_evaluation</td>\n      <td>HOBBIES_1_002_CA_1_evaluation</td>\n      <td>HOBBIES_1_003_CA_1_evaluation</td>\n      <td>HOBBIES_1_004_CA_1_evaluation</td>\n      <td>HOBBIES_1_005_CA_1_evaluation</td>\n      <td>HOBBIES_1_006_CA_1_evaluation</td>\n      <td>HOBBIES_1_007_CA_1_evaluation</td>\n      <td>HOBBIES_1_008_CA_1_evaluation</td>\n      <td>HOBBIES_1_009_CA_1_evaluation</td>\n      <td>HOBBIES_1_010_CA_1_evaluation</td>\n      <td>...</td>\n      <td>FOODS_3_818_WI_3_evaluation</td>\n      <td>FOODS_3_819_WI_3_evaluation</td>\n      <td>FOODS_3_820_WI_3_evaluation</td>\n      <td>FOODS_3_821_WI_3_evaluation</td>\n      <td>FOODS_3_822_WI_3_evaluation</td>\n      <td>FOODS_3_823_WI_3_evaluation</td>\n      <td>FOODS_3_824_WI_3_evaluation</td>\n      <td>FOODS_3_825_WI_3_evaluation</td>\n      <td>FOODS_3_826_WI_3_evaluation</td>\n      <td>FOODS_3_827_WI_3_evaluation</td>\n    </tr>\n    <tr>\n      <th>item_id</th>\n      <td>HOBBIES_1_001</td>\n      <td>HOBBIES_1_002</td>\n      <td>HOBBIES_1_003</td>\n      <td>HOBBIES_1_004</td>\n      <td>HOBBIES_1_005</td>\n      <td>HOBBIES_1_006</td>\n      <td>HOBBIES_1_007</td>\n      <td>HOBBIES_1_008</td>\n      <td>HOBBIES_1_009</td>\n      <td>HOBBIES_1_010</td>\n      <td>...</td>\n      <td>FOODS_3_818</td>\n      <td>FOODS_3_819</td>\n      <td>FOODS_3_820</td>\n      <td>FOODS_3_821</td>\n      <td>FOODS_3_822</td>\n      <td>FOODS_3_823</td>\n      <td>FOODS_3_824</td>\n      <td>FOODS_3_825</td>\n      <td>FOODS_3_826</td>\n      <td>FOODS_3_827</td>\n    </tr>\n    <tr>\n      <th>dept_id</th>\n      <td>HOBBIES_1</td>\n      <td>HOBBIES_1</td>\n      <td>HOBBIES_1</td>\n      <td>HOBBIES_1</td>\n      <td>HOBBIES_1</td>\n      <td>HOBBIES_1</td>\n      <td>HOBBIES_1</td>\n      <td>HOBBIES_1</td>\n      <td>HOBBIES_1</td>\n      <td>HOBBIES_1</td>\n      <td>...</td>\n      <td>FOODS_3</td>\n      <td>FOODS_3</td>\n      <td>FOODS_3</td>\n      <td>FOODS_3</td>\n      <td>FOODS_3</td>\n      <td>FOODS_3</td>\n      <td>FOODS_3</td>\n      <td>FOODS_3</td>\n      <td>FOODS_3</td>\n      <td>FOODS_3</td>\n    </tr>\n    <tr>\n      <th>cat_id</th>\n      <td>HOBBIES</td>\n      <td>HOBBIES</td>\n      <td>HOBBIES</td>\n      <td>HOBBIES</td>\n      <td>HOBBIES</td>\n      <td>HOBBIES</td>\n      <td>HOBBIES</td>\n      <td>HOBBIES</td>\n      <td>HOBBIES</td>\n      <td>HOBBIES</td>\n      <td>...</td>\n      <td>FOODS</td>\n      <td>FOODS</td>\n      <td>FOODS</td>\n      <td>FOODS</td>\n      <td>FOODS</td>\n      <td>FOODS</td>\n      <td>FOODS</td>\n      <td>FOODS</td>\n      <td>FOODS</td>\n      <td>FOODS</td>\n    </tr>\n    <tr>\n      <th>store_id</th>\n      <td>CA_1</td>\n      <td>CA_1</td>\n      <td>CA_1</td>\n      <td>CA_1</td>\n      <td>CA_1</td>\n      <td>CA_1</td>\n      <td>CA_1</td>\n      <td>CA_1</td>\n      <td>CA_1</td>\n      <td>CA_1</td>\n      <td>...</td>\n      <td>WI_3</td>\n      <td>WI_3</td>\n      <td>WI_3</td>\n      <td>WI_3</td>\n      <td>WI_3</td>\n      <td>WI_3</td>\n      <td>WI_3</td>\n      <td>WI_3</td>\n      <td>WI_3</td>\n      <td>WI_3</td>\n    </tr>\n    <tr>\n      <th>state_id</th>\n      <td>CA</td>\n      <td>CA</td>\n      <td>CA</td>\n      <td>CA</td>\n      <td>CA</td>\n      <td>CA</td>\n      <td>CA</td>\n      <td>CA</td>\n      <td>CA</td>\n      <td>CA</td>\n      <td>...</td>\n      <td>WI</td>\n      <td>WI</td>\n      <td>WI</td>\n      <td>WI</td>\n      <td>WI</td>\n      <td>WI</td>\n      <td>WI</td>\n      <td>WI</td>\n      <td>WI</td>\n      <td>WI</td>\n    </tr>\n    <tr>\n      <th>d_1</th>\n      <td>0</td>\n      <td>0</td>\n      <td>0</td>\n      <td>0</td>\n      <td>0</td>\n      <td>0</td>\n      <td>0</td>\n      <td>12</td>\n      <td>2</td>\n      <td>0</td>\n      <td>...</td>\n      <td>0</td>\n      <td>14</td>\n      <td>1</td>\n      <td>0</td>\n      <td>4</td>\n      <td>0</td>\n      <td>0</td>\n      <td>0</td>\n      <td>0</td>\n      <td>0</td>\n    </tr>\n    <tr>\n      <th>d_2</th>\n      <td>0</td>\n      <td>0</td>\n      <td>0</td>\n      <td>0</td>\n      <td>0</td>\n      <td>0</td>\n      <td>0</td>\n      <td>15</td>\n      <td>0</td>\n      <td>0</td>\n      <td>...</td>\n      <td>0</td>\n      <td>11</td>\n      <td>1</td>\n      <td>0</td>\n      <td>4</td>\n      <td>0</td>\n      <td>0</td>\n      <td>6</td>\n      <td>0</td>\n      <td>0</td>\n    </tr>\n  </tbody>\n</table>\n<p>8 rows × 30490 columns</p>\n</div>"
     },
     "metadata": {}
    }
   ]
  },
  {
   "cell_type": "markdown",
   "source": [
    "* Remove the first six  colums id, item_id, dept_id, cat_id, store_id, state_id columns, to end up only days as rows"
   ],
   "metadata": {}
  },
  {
   "cell_type": "code",
   "source": [
    "#Entferne id, item_id, dept_id, cat_id, store_id, state_id \n",
    "dt = dt[6 + startDay:]\n",
    "dt.head(5)"
   ],
   "metadata": {
    "execution": {
     "iopub.status.busy": "2024-04-06T13:09:14.004978Z",
     "iopub.execute_input": "2024-04-06T13:09:14.005330Z",
     "iopub.status.idle": "2024-04-06T13:09:14.035006Z",
     "shell.execute_reply.started": "2024-04-06T13:09:14.005281Z",
     "shell.execute_reply": "2024-04-06T13:09:14.034049Z"
    },
    "trusted": true
   },
   "execution_count": 9,
   "outputs": [
    {
     "execution_count": 9,
     "output_type": "execute_result",
     "data": {
      "text/plain": "      0     1     2     3     4     5     6     7     8     9      ... 30480  \\\nd_351     0     0     0     2     0     0     0    24     3     2  ...     0   \nd_352     0     0     0     0     0     0     0     9     0     2  ...     0   \nd_353     0     0     0     4     2     0     0     2     1     1  ...     0   \nd_354     0     1     0     2     0     0     0     7     1     0  ...     0   \nd_355     0     0     0     1     2     0     0     0     0     0  ...     0   \n\n      30481 30482 30483 30484 30485 30486 30487 30488 30489  \nd_351     9     1     0    11     0     0     1     0     0  \nd_352     5     4     0     8     0     1     2     0     0  \nd_353    15     2     0     3     0     1     2     0     0  \nd_354     5     1     0     3     0     0     0     0     0  \nd_355     7     1     0     1     0     1     1     0     0  \n\n[5 rows x 30490 columns]",
      "text/html": "<div>\n<style scoped>\n    .dataframe tbody tr th:only-of-type {\n        vertical-align: middle;\n    }\n\n    .dataframe tbody tr th {\n        vertical-align: top;\n    }\n\n    .dataframe thead th {\n        text-align: right;\n    }\n</style>\n<table border=\"1\" class=\"dataframe\">\n  <thead>\n    <tr style=\"text-align: right;\">\n      <th></th>\n      <th>0</th>\n      <th>1</th>\n      <th>2</th>\n      <th>3</th>\n      <th>4</th>\n      <th>5</th>\n      <th>6</th>\n      <th>7</th>\n      <th>8</th>\n      <th>9</th>\n      <th>...</th>\n      <th>30480</th>\n      <th>30481</th>\n      <th>30482</th>\n      <th>30483</th>\n      <th>30484</th>\n      <th>30485</th>\n      <th>30486</th>\n      <th>30487</th>\n      <th>30488</th>\n      <th>30489</th>\n    </tr>\n  </thead>\n  <tbody>\n    <tr>\n      <th>d_351</th>\n      <td>0</td>\n      <td>0</td>\n      <td>0</td>\n      <td>2</td>\n      <td>0</td>\n      <td>0</td>\n      <td>0</td>\n      <td>24</td>\n      <td>3</td>\n      <td>2</td>\n      <td>...</td>\n      <td>0</td>\n      <td>9</td>\n      <td>1</td>\n      <td>0</td>\n      <td>11</td>\n      <td>0</td>\n      <td>0</td>\n      <td>1</td>\n      <td>0</td>\n      <td>0</td>\n    </tr>\n    <tr>\n      <th>d_352</th>\n      <td>0</td>\n      <td>0</td>\n      <td>0</td>\n      <td>0</td>\n      <td>0</td>\n      <td>0</td>\n      <td>0</td>\n      <td>9</td>\n      <td>0</td>\n      <td>2</td>\n      <td>...</td>\n      <td>0</td>\n      <td>5</td>\n      <td>4</td>\n      <td>0</td>\n      <td>8</td>\n      <td>0</td>\n      <td>1</td>\n      <td>2</td>\n      <td>0</td>\n      <td>0</td>\n    </tr>\n    <tr>\n      <th>d_353</th>\n      <td>0</td>\n      <td>0</td>\n      <td>0</td>\n      <td>4</td>\n      <td>2</td>\n      <td>0</td>\n      <td>0</td>\n      <td>2</td>\n      <td>1</td>\n      <td>1</td>\n      <td>...</td>\n      <td>0</td>\n      <td>15</td>\n      <td>2</td>\n      <td>0</td>\n      <td>3</td>\n      <td>0</td>\n      <td>1</td>\n      <td>2</td>\n      <td>0</td>\n      <td>0</td>\n    </tr>\n    <tr>\n      <th>d_354</th>\n      <td>0</td>\n      <td>1</td>\n      <td>0</td>\n      <td>2</td>\n      <td>0</td>\n      <td>0</td>\n      <td>0</td>\n      <td>7</td>\n      <td>1</td>\n      <td>0</td>\n      <td>...</td>\n      <td>0</td>\n      <td>5</td>\n      <td>1</td>\n      <td>0</td>\n      <td>3</td>\n      <td>0</td>\n      <td>0</td>\n      <td>0</td>\n      <td>0</td>\n      <td>0</td>\n    </tr>\n    <tr>\n      <th>d_355</th>\n      <td>0</td>\n      <td>0</td>\n      <td>0</td>\n      <td>1</td>\n      <td>2</td>\n      <td>0</td>\n      <td>0</td>\n      <td>0</td>\n      <td>0</td>\n      <td>0</td>\n      <td>...</td>\n      <td>0</td>\n      <td>7</td>\n      <td>1</td>\n      <td>0</td>\n      <td>1</td>\n      <td>0</td>\n      <td>1</td>\n      <td>1</td>\n      <td>0</td>\n      <td>0</td>\n    </tr>\n  </tbody>\n</table>\n<p>5 rows × 30490 columns</p>\n</div>"
     },
     "metadata": {}
    }
   ]
  },
  {
   "cell_type": "code",
   "source": [
    "# Lade Kalenderdaten\n",
    "calendar = pd.read_csv(dataPath + \"/calendar.csv\")\n"
   ],
   "metadata": {
    "execution": {
     "iopub.status.busy": "2024-04-06T13:09:19.510265Z",
     "iopub.execute_input": "2024-04-06T13:09:19.510599Z",
     "iopub.status.idle": "2024-04-06T13:09:19.523200Z",
     "shell.execute_reply.started": "2024-04-06T13:09:19.510556Z",
     "shell.execute_reply": "2024-04-06T13:09:19.522268Z"
    },
    "trusted": true
   },
   "execution_count": 11,
   "outputs": []
  },
  {
   "cell_type": "code",
   "source": [
    "# Dataframe mit Nullen wird erstellt\n",
    "daysBeforeEvent = pd.DataFrame(np.zeros((1969,1)))\n"
   ],
   "metadata": {
    "execution": {
     "iopub.status.busy": "2024-04-06T13:09:22.546937Z",
     "iopub.execute_input": "2024-04-06T13:09:22.547402Z",
     "iopub.status.idle": "2024-04-06T13:09:22.552941Z",
     "shell.execute_reply.started": "2024-04-06T13:09:22.547336Z",
     "shell.execute_reply": "2024-04-06T13:09:22.551550Z"
    },
    "trusted": true
   },
   "execution_count": 12,
   "outputs": []
  },
  {
   "cell_type": "code",
   "source": [
    "# Wert 1 wenn an Tag X + 1 ein Event stattfindet\n",
    "for x,y in calendar.iterrows():\n",
    "    if((pd.isnull(calendar[\"event_name_1\"][x])) == False):\n",
    "           daysBeforeEvent[0][x-1] = 1 \n",
    "\n",
    "\n",
    "   "
   ],
   "metadata": {
    "execution": {
     "iopub.status.busy": "2024-04-06T13:09:27.200727Z",
     "iopub.execute_input": "2024-04-06T13:09:27.201092Z",
     "iopub.status.idle": "2024-04-06T13:09:27.433611Z",
     "shell.execute_reply.started": "2024-04-06T13:09:27.201046Z",
     "shell.execute_reply": "2024-04-06T13:09:27.432866Z"
    },
    "trusted": true
   },
   "execution_count": 13,
   "outputs": []
  },
  {
   "cell_type": "code",
   "source": [
    "\n",
    "del calendar\n"
   ],
   "metadata": {
    "execution": {
     "iopub.status.busy": "2024-04-06T13:09:33.079436Z",
     "iopub.execute_input": "2024-04-06T13:09:33.079791Z",
     "iopub.status.idle": "2024-04-06T13:09:33.083677Z",
     "shell.execute_reply.started": "2024-04-06T13:09:33.079746Z",
     "shell.execute_reply": "2024-04-06T13:09:33.082367Z"
    },
    "trusted": true
   },
   "execution_count": 14,
   "outputs": []
  },
  {
   "cell_type": "code",
   "source": [
    "# Test-Set\n",
    "daysBeforeEventTest = daysBeforeEvent[1941:1969]\n",
    "# Training-Set\n",
    "daysBeforeEvent = daysBeforeEvent[startDay:1941]\n",
    "\n"
   ],
   "metadata": {
    "execution": {
     "iopub.status.busy": "2024-04-06T13:09:35.779457Z",
     "iopub.execute_input": "2024-04-06T13:09:35.779805Z",
     "iopub.status.idle": "2024-04-06T13:09:35.784625Z",
     "shell.execute_reply.started": "2024-04-06T13:09:35.779760Z",
     "shell.execute_reply": "2024-04-06T13:09:35.783580Z"
    },
    "trusted": true
   },
   "execution_count": 15,
   "outputs": []
  },
  {
   "cell_type": "code",
   "source": [
    "# Spalte umbenennen\n",
    "daysBeforeEvent.columns = [\"oneDayBeforeEvent\"]\n",
    "daysBeforeEvent.index = dt.index\n",
    "\n"
   ],
   "metadata": {
    "execution": {
     "iopub.status.busy": "2024-04-06T13:09:38.195132Z",
     "iopub.execute_input": "2024-04-06T13:09:38.195523Z",
     "iopub.status.idle": "2024-04-06T13:09:38.200058Z",
     "shell.execute_reply.started": "2024-04-06T13:09:38.195463Z",
     "shell.execute_reply": "2024-04-06T13:09:38.199120Z"
    },
    "trusted": true
   },
   "execution_count": 16,
   "outputs": []
  },
  {
   "cell_type": "code",
   "source": [
    "dt = pd.concat([dt, daysBeforeEvent], axis = 1)\n",
    "\n",
    "dt.columns"
   ],
   "metadata": {
    "execution": {
     "iopub.status.busy": "2024-04-06T13:09:40.458688Z",
     "iopub.execute_input": "2024-04-06T13:09:40.459034Z",
     "iopub.status.idle": "2024-04-06T13:09:41.108057Z",
     "shell.execute_reply.started": "2024-04-06T13:09:40.458990Z",
     "shell.execute_reply": "2024-04-06T13:09:41.107270Z"
    },
    "trusted": true
   },
   "execution_count": 17,
   "outputs": [
    {
     "execution_count": 17,
     "output_type": "execute_result",
     "data": {
      "text/plain": "Index([                  0,                   1,                   2,\n                         3,                   4,                   5,\n                         6,                   7,                   8,\n                         9,\n       ...\n                     30481,               30482,               30483,\n                     30484,               30485,               30486,\n                     30487,               30488,               30489,\n       'oneDayBeforeEvent'],\n      dtype='object', length=30491)"
     },
     "metadata": {}
    }
   ]
  },
  {
   "cell_type": "code",
   "source": [
    "# MinMax-Scaling\n",
    "from sklearn.preprocessing import MinMaxScaler\n",
    "sc = MinMaxScaler(feature_range = (0, 1))\n",
    "dt_scaled = sc.fit_transform(dt)\n",
    "print(dt_scaled)"
   ],
   "metadata": {
    "execution": {
     "iopub.status.busy": "2024-04-06T13:10:18.279589Z",
     "iopub.execute_input": "2024-04-06T13:10:18.280062Z",
     "iopub.status.idle": "2024-04-06T13:10:30.125449Z",
     "shell.execute_reply.started": "2024-04-06T13:10:18.279994Z",
     "shell.execute_reply": "2024-04-06T13:10:30.124394Z"
    },
    "trusted": true
   },
   "execution_count": 19,
   "outputs": [
    {
     "name": "stdout",
     "text": "[[0.         0.         0.         ... 0.         0.         0.        ]\n [0.         0.         0.         ... 0.         0.         1.        ]\n [0.         0.         0.         ... 0.         0.         0.        ]\n ...\n [0.6        0.         0.5        ... 0.08333333 0.16666667 0.        ]\n [0.         0.         0.         ... 0.08333333 0.41666667 0.        ]\n [0.2        0.         0.16666667 ... 0.         0.08333333 0.        ]]\n",
     "output_type": "stream"
    }
   ]
  },
  {
   "cell_type": "code",
   "source": [
    "# X- und Y-Trainingssätze werden erstellt\n",
    "X_train = []\n",
    "y_train = []\n",
    "for i in range(timesteps, 1941 - startDay):\n",
    "    X_train.append(dt_scaled[i-timesteps:i])\n",
    "    y_train.append(dt_scaled[i][0:30490]) \n",
    "\n",
    "display(dt_scaled)\n",
    "print(dt_scaled[0:14])\n",
    "print(y_train[1])\n",
    "print(len(X_train[0]))\n",
    "print(len(X_train))"
   ],
   "metadata": {
    "execution": {
     "iopub.status.busy": "2024-04-06T13:43:57.810978Z",
     "iopub.execute_input": "2024-04-06T13:43:57.811379Z",
     "iopub.status.idle": "2024-04-06T13:43:57.829971Z",
     "shell.execute_reply.started": "2024-04-06T13:43:57.811323Z",
     "shell.execute_reply": "2024-04-06T13:43:57.828869Z"
    },
    "trusted": true
   },
   "execution_count": 27,
   "outputs": [
    {
     "output_type": "display_data",
     "data": {
      "text/plain": "array([[0.        , 0.        , 0.        , ..., 0.        , 0.        ,\n        0.        ],\n       [0.        , 0.        , 0.        , ..., 0.        , 0.        ,\n        1.        ],\n       [0.        , 0.        , 0.        , ..., 0.        , 0.        ,\n        0.        ],\n       ...,\n       [0.6       , 0.        , 0.5       , ..., 0.08333333, 0.16666667,\n        0.        ],\n       [0.        , 0.        , 0.        , ..., 0.08333333, 0.41666667,\n        0.        ],\n       [0.2       , 0.        , 0.16666667, ..., 0.        , 0.08333333,\n        0.        ]])"
     },
     "metadata": {}
    },
    {
     "name": "stdout",
     "text": "[[0.  0.  0.  ... 0.  0.  0. ]\n [0.  0.  0.  ... 0.  0.  1. ]\n [0.  0.  0.  ... 0.  0.  0. ]\n ...\n [0.  0.2 0.  ... 0.  0.  0. ]\n [0.  0.2 0.  ... 0.  0.  0. ]\n [0.  0.  0.  ... 0.  0.  0. ]]\n[0.         0.2        0.         ... 0.28571429 0.         0.        ]\n14\n1577\n",
     "output_type": "stream"
    }
   ]
  },
  {
   "cell_type": "code",
   "source": [
    "del dt_scaled\n"
   ],
   "metadata": {
    "trusted": true
   },
   "execution_count": null,
   "outputs": []
  },
  {
   "cell_type": "code",
   "source": [
    "# In ein Array umwandeln\n",
    "X_train = np.array(X_train)\n",
    "y_train = np.array(y_train)\n",
    "print(X_train.shape)\n",
    "print(y_train.shape)"
   ],
   "metadata": {
    "trusted": true
   },
   "execution_count": null,
   "outputs": []
  },
  {
   "cell_type": "markdown",
   "source": [
    "# LSTM Model with Keras"
   ],
   "metadata": {}
  },
  {
   "cell_type": "code",
   "source": [
    "\n",
    "from keras.models import Sequential\n",
    "from keras.layers import Dense\n",
    "from keras.layers import LSTM\n",
    "from keras.layers import Dropout\n",
    "\n",
    "# Initialisierung\n",
    "regressor = Sequential()\n",
    "\n",
    "# Erste LSTM Schicht\n",
    "layer_1_units=50\n",
    "regressor.add(LSTM(units = layer_1_units, return_sequences = True, input_shape = (X_train.shape[1], X_train.shape[2])))\n",
    "regressor.add(Dropout(0.2))\n",
    "\n",
    "# Zweite LSTM Schicht\n",
    "layer_3_units=400\n",
    "regressor.add(LSTM(units = layer_3_units, return_sequences = True))\n",
    "regressor.add(Dropout(0.2))\n",
    "\n",
    "# Dritte LSTM Schicht\n",
    "layer_3_units=400\n",
    "regressor.add(LSTM(units = layer_3_units))\n",
    "regressor.add(Dropout(0.2))\n",
    "\n",
    "# Output Schicht\n",
    "regressor.add(Dense(units = 30490))\n",
    "\n",
    "# Kompilieren\n",
    "regressor.compile(optimizer = 'adam', loss = 'mean_squared_error')\n",
    "\n",
    "# Trainieren\n",
    "epoch_no=32\n",
    "batch_size_RNN=44\n",
    "regressor.fit(X_train, y_train, epochs = epoch_no, batch_size = batch_size_RNN)\n",
    "\n"
   ],
   "metadata": {
    "trusted": true
   },
   "execution_count": null,
   "outputs": []
  },
  {
   "cell_type": "code",
   "source": [
    "inputs= dt[-timesteps:]\n",
    "inputs = sc.transform(inputs)"
   ],
   "metadata": {
    "trusted": true
   },
   "execution_count": null,
   "outputs": []
  },
  {
   "cell_type": "code",
   "source": [
    "X_test = []\n",
    "X_test.append(inputs[0:timesteps])\n",
    "X_test = np.array(X_test)\n",
    "predictions = []\n",
    "\n",
    "for j in range(timesteps,timesteps + 28):\n",
    "#X_test = np.reshape(X_test, (X_test.shape[0], X_test.shape[1], 1))\n",
    "    predicted_stock_price = regressor.predict(X_test[0,j - timesteps:j].reshape(1, timesteps, 30491))\n",
    "    testInput = np.column_stack((np.array(predicted_stock_price), daysBeforeEventTest[0][1941 + j - timesteps]))\n",
    "    X_test = np.append(X_test, testInput).reshape(1,j + 1,30491)\n",
    "    predicted_stock_price = sc.inverse_transform(testInput)[:,0:30490]\n",
    "    predictions.append(predicted_stock_price)"
   ],
   "metadata": {
    "trusted": true
   },
   "execution_count": null,
   "outputs": []
  },
  {
   "cell_type": "markdown",
   "source": [
    "# Submission File Creation\n"
   ],
   "metadata": {}
  },
  {
   "cell_type": "code",
   "source": [
    "import time\n",
    "\n",
    "submission = pd.DataFrame(data=np.array(predictions).reshape(28,30490))\n",
    "\n",
    "submission = submission.T\n",
    "    \n",
    "submission = pd.concat((submission, submission), ignore_index=True)\n",
    "\n",
    "sample_submission = pd.read_csv(dataPath + \"/sample_submission.csv\")\n",
    "    \n",
    "idColumn = sample_submission[[\"id\"]]\n",
    "    \n",
    "submission[[\"id\"]] = idColumn  \n",
    "\n",
    "cols = list(submission.columns)\n",
    "cols = cols[-1:] + cols[:-1]\n",
    "submission = submission[cols]\n",
    "\n",
    "colsdeneme = [\"id\"] + [f\"F{i}\" for i in range (1,29)]\n",
    "\n",
    "submission.columns = colsdeneme\n",
    "\n",
    "currentDateTime = time.strftime(\"%d%m%Y_%H%M%S\")\n",
    "\n",
    "submission.to_csv(\"submission.csv\", index=False)\n"
   ],
   "metadata": {
    "trusted": true
   },
   "execution_count": null,
   "outputs": []
  },
  {
   "cell_type": "code",
   "source": [
    "submission.head()"
   ],
   "metadata": {
    "trusted": true
   },
   "execution_count": null,
   "outputs": []
  }
 ]
}
