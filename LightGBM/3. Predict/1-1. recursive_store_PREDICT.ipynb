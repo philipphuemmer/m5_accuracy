{
 "cells": [
  {
   "cell_type": "markdown",
   "metadata": {},
   "source": [
    "## Please input your directory for the top level folder\n",
    "folder name : SUBMISSION MODEL"
   ]
  },
  {
   "cell_type": "code",
   "execution_count": 1,
   "metadata": {
    "ExecuteTime": {
     "end_time": "2024-04-08T19:17:02.181122Z",
     "start_time": "2024-04-08T19:17:02.158126Z"
    }
   },
   "outputs": [],
   "source": [
    "dir_ = 'E:/Seminararbeit/Code/A1/' # input only here"
   ]
  },
  {
   "cell_type": "markdown",
   "metadata": {},
   "source": [
    "#### setting other directory"
   ]
  },
  {
   "cell_type": "code",
   "execution_count": 2,
   "metadata": {
    "ExecuteTime": {
     "end_time": "2024-04-08T19:17:02.197123Z",
     "start_time": "2024-04-08T19:17:02.183121Z"
    }
   },
   "outputs": [],
   "source": [
    "raw_data_dir = dir_+'2. data/'\n",
    "processed_data_dir = dir_+'2. data/processed/'\n",
    "log_dir = dir_+'4. logs/'\n",
    "model_dir = dir_+'5. models/'\n",
    "submission_dir = dir_+'6. submissions/'"
   ]
  },
  {
   "cell_type": "code",
   "execution_count": 3,
   "metadata": {
    "ExecuteTime": {
     "end_time": "2024-04-08T19:17:02.212121Z",
     "start_time": "2024-04-08T19:17:02.198122Z"
    }
   },
   "outputs": [],
   "source": [
    "####################################################################################\n",
    "########################### 1-1. recursive model by store ##########################\n",
    "####################################################################################"
   ]
  },
  {
   "cell_type": "code",
   "execution_count": 4,
   "metadata": {
    "ExecuteTime": {
     "end_time": "2024-04-08T19:17:02.228123Z",
     "start_time": "2024-04-08T19:17:02.214123Z"
    }
   },
   "outputs": [],
   "source": [
    "ver, KKK = 'priv', 1\n",
    "STORES_IDS = ['CA_1','CA_2','CA_3','CA_4','TX_1','TX_2','TX_3','WI_1','WI_2','WI_3']"
   ]
  },
  {
   "cell_type": "code",
   "execution_count": 5,
   "metadata": {
    "_cell_guid": "b1076dfc-b9ad-4769-8c92-a6c4dae69d19",
    "_uuid": "8f2839f25d086af736a60e9eeb907d3b93b6e0e5",
    "ExecuteTime": {
     "end_time": "2024-04-08T19:17:02.590123Z",
     "start_time": "2024-04-08T19:17:02.230124Z"
    }
   },
   "outputs": [],
   "source": [
    "import numpy as np\n",
    "import pandas as pd\n",
    "import os, sys, gc, time, warnings, pickle, psutil, random\n",
    "\n",
    "from multiprocessing import Pool\n",
    "\n",
    "warnings.filterwarnings('ignore')"
   ]
  },
  {
   "cell_type": "code",
   "execution_count": 6,
   "metadata": {
    "ExecuteTime": {
     "end_time": "2024-04-08T19:17:02.606124Z",
     "start_time": "2024-04-08T19:17:02.592123Z"
    }
   },
   "outputs": [],
   "source": [
    "########################### Helpers\n",
    "#################################################################################\n",
    "## Seeder\n",
    "def seed_everything(seed=0):\n",
    "    random.seed(seed)\n",
    "    np.random.seed(seed)\n",
    "\n",
    "    \n",
    "## Multiprocess Runs\n",
    "def df_parallelize_run(func, t_split):\n",
    "    num_cores = np.min([N_CORES,len(t_split)])\n",
    "    pool = Pool(num_cores)\n",
    "    df = pd.concat(pool.map(func, t_split), axis=1)\n",
    "    pool.close()\n",
    "    pool.join()\n",
    "    return df"
   ]
  },
  {
   "cell_type": "code",
   "execution_count": 7,
   "metadata": {
    "ExecuteTime": {
     "end_time": "2024-04-08T19:17:02.622122Z",
     "start_time": "2024-04-08T19:17:02.608123Z"
    }
   },
   "outputs": [],
   "source": [
    "########################### Helper to load data by store ID\n",
    "#################################################################################\n",
    "# Read data\n",
    "def get_data_by_store(store):\n",
    "    \n",
    "    # Read and contact basic feature\n",
    "    df = pd.concat([pd.read_pickle(BASE),\n",
    "                    pd.read_pickle(PRICE).iloc[:,2:],\n",
    "                    pd.read_pickle(CALENDAR).iloc[:,2:]],\n",
    "                    axis=1)\n",
    "    \n",
    "    df = df[df['d']>=START_TRAIN]\n",
    "    \n",
    "    df = df[df['store_id']==store]\n",
    "\n",
    "    df2 = pd.read_pickle(MEAN_ENC)[mean_features]\n",
    "    df2 = df2[df2.index.isin(df.index)]\n",
    "    \n",
    "    df3 = pd.read_pickle(LAGS).iloc[:,3:]\n",
    "    df3 = df3[df3.index.isin(df.index)]\n",
    "    \n",
    "    df = pd.concat([df, df2], axis=1)\n",
    "    del df2\n",
    "    \n",
    "    df = pd.concat([df, df3], axis=1)\n",
    "    del df3\n",
    "    \n",
    "    features = [col for col in list(df) if col not in remove_features]\n",
    "    df = df[['id','d',TARGET]+features]\n",
    "    \n",
    "    df = df.reset_index(drop=True)\n",
    "    \n",
    "    return df, features\n",
    "\n",
    "# Recombine Test set after training\n",
    "def get_base_test():\n",
    "    base_test = pd.DataFrame()\n",
    "\n",
    "    for store_id in STORES_IDS:\n",
    "        temp_df = pd.read_pickle(processed_data_dir+'test_'+store_id+'.pkl')\n",
    "        temp_df['store_id'] = store_id\n",
    "        base_test = pd.concat([base_test, temp_df]).reset_index(drop=True)\n",
    "    \n",
    "    return base_test\n",
    "\n",
    "\n",
    "########################### Helper to make dynamic rolling lags\n",
    "#################################################################################\n",
    "def make_lag(LAG_DAY):\n",
    "    lag_df = base_test[['id','d',TARGET]]\n",
    "    col_name = 'sales_lag_'+str(LAG_DAY)\n",
    "    lag_df[col_name] = lag_df.groupby(['id'])[TARGET].transform(lambda x: x.shift(LAG_DAY)).astype(np.float16)\n",
    "    return lag_df[[col_name]]\n",
    "\n",
    "\n",
    "def make_lag_roll(LAG_DAY):\n",
    "    shift_day = LAG_DAY[0]\n",
    "    roll_wind = LAG_DAY[1]\n",
    "    lag_df = base_test[['id','d',TARGET]]\n",
    "    col_name = 'rolling_mean_tmp_'+str(shift_day)+'_'+str(roll_wind)\n",
    "    lag_df[col_name] = lag_df.groupby(['id'])[TARGET].transform(lambda x: x.shift(shift_day).rolling(roll_wind).mean())\n",
    "    return lag_df[[col_name]]"
   ]
  },
  {
   "cell_type": "code",
   "execution_count": 8,
   "metadata": {
    "ExecuteTime": {
     "end_time": "2024-04-08T19:17:03.712121Z",
     "start_time": "2024-04-08T19:17:02.623121Z"
    }
   },
   "outputs": [],
   "source": [
    "########################### Model params\n",
    "#################################################################################\n",
    "import lightgbm as lgb\n",
    "lgb_params = {\n",
    "                    'boosting_type': 'gbdt',\n",
    "                    'objective': 'tweedie',\n",
    "                    'tweedie_variance_power': 1.1,\n",
    "                    'metric': 'rmse',\n",
    "                    'subsample': 0.5,\n",
    "                    'subsample_freq': 1,\n",
    "                    'learning_rate': 0.015,\n",
    "                    'num_leaves': 2**11-1,\n",
    "                    'min_data_in_leaf': 2**12-1,\n",
    "                    'feature_fraction': 0.5,\n",
    "                    'max_bin': 100,\n",
    "                    'n_estimators': 3000,\n",
    "#                     'n_estimators': 3,\n",
    "                    'boost_from_average': False,\n",
    "                    'verbose': 1,\n",
    "                    'n_jobs': 1\n",
    "} \n"
   ]
  },
  {
   "cell_type": "code",
   "execution_count": 8,
   "metadata": {
    "ExecuteTime": {
     "end_time": "2024-04-08T19:17:03.728246Z",
     "start_time": "2024-04-08T19:17:03.713122Z"
    }
   },
   "outputs": [],
   "source": []
  },
  {
   "cell_type": "code",
   "execution_count": 9,
   "metadata": {
    "ExecuteTime": {
     "end_time": "2024-04-08T19:17:03.774770Z",
     "start_time": "2024-04-08T19:17:03.729773Z"
    }
   },
   "outputs": [],
   "source": [
    "########################### Vars\n",
    "#################################################################################\n",
    "VER = 1                          \n",
    "SEED = 42                        \n",
    "seed_everything(SEED)            \n",
    "lgb_params['seed'] = SEED        \n",
    "N_CORES = psutil.cpu_count()     \n",
    "\n",
    "\n",
    "#LIMITS and const\n",
    "TARGET      = 'sales'            \n",
    "START_TRAIN = 0                \n",
    "END_TRAIN   = 1941 - 28*KKK      \n",
    "P_HORIZON   = 28                 \n",
    "USE_AUX     = False             \n",
    "\n",
    "remove_features = ['id','state_id','store_id',\n",
    "                   'date','wm_yr_wk','d',TARGET]\n",
    "mean_features   = ['enc_cat_id_mean','enc_cat_id_std',\n",
    "                   'enc_dept_id_mean','enc_dept_id_std',\n",
    "                   'enc_item_id_mean','enc_item_id_std'] \n",
    "\n",
    "ORIGINAL = raw_data_dir\n",
    "BASE     = processed_data_dir+'processedgrid_part_1.pkl'\n",
    "PRICE    = processed_data_dir+'processedgrid_part_2.pkl'\n",
    "CALENDAR = processed_data_dir+'processedgrid_part_3.pkl'\n",
    "LAGS     = processed_data_dir+'processedlags_df_28.pkl'\n",
    "MEAN_ENC = processed_data_dir+'processedmean_encoding_df.pkl'\n",
    "\n",
    "\n",
    "#SPLITS for lags creation\n",
    "SHIFT_DAY  = 28\n",
    "N_LAGS     = 15\n",
    "LAGS_SPLIT = [col for col in range(SHIFT_DAY,SHIFT_DAY+N_LAGS)]\n",
    "ROLS_SPLIT = []\n",
    "for i in [1,7,14]:\n",
    "    for j in [7,14,30,60]:\n",
    "        ROLS_SPLIT.append([i,j])"
   ]
  },
  {
   "cell_type": "code",
   "execution_count": 10,
   "metadata": {
    "ExecuteTime": {
     "end_time": "2024-04-08T19:19:14.233675Z",
     "start_time": "2024-04-08T19:17:03.776772Z"
    }
   },
   "outputs": [
    {
     "data": {
      "text/plain": "0"
     },
     "execution_count": 10,
     "metadata": {},
     "output_type": "execute_result"
    }
   ],
   "source": [
    "_, MODEL_FEATURES = get_data_by_store(STORES_IDS[-1])\n",
    "del _; gc.collect()"
   ]
  },
  {
   "cell_type": "code",
   "execution_count": 11,
   "metadata": {
    "scrolled": true,
    "ExecuteTime": {
     "end_time": "2024-04-08T20:05:28.070782Z",
     "start_time": "2024-04-08T19:19:14.235675Z"
    }
   },
   "outputs": [
    {
     "name": "stdout",
     "output_type": "stream",
     "text": [
      "Predict | Day: 1\n",
      "##########  1.78 min round |  1.78 min total |  37732.01 day sales |\n",
      "Predict | Day: 2\n",
      "##########  1.59 min round |  3.36 min total |  35846.63 day sales |\n",
      "Predict | Day: 3\n",
      "##########  1.59 min round |  4.96 min total |  35231.96 day sales |\n",
      "Predict | Day: 4\n",
      "##########  1.59 min round |  6.55 min total |  35903.92 day sales |\n",
      "Predict | Day: 5\n",
      "##########  1.67 min round |  8.22 min total |  42927.37 day sales |\n",
      "Predict | Day: 6\n",
      "##########  1.60 min round |  9.82 min total |  52198.17 day sales |\n",
      "Predict | Day: 7\n",
      "##########  1.65 min round |  11.48 min total |  55278.53 day sales |\n",
      "Predict | Day: 8\n",
      "##########  1.72 min round |  13.19 min total |  44822.18 day sales |\n",
      "Predict | Day: 9\n",
      "##########  1.66 min round |  14.85 min total |  45421.76 day sales |\n",
      "Predict | Day: 10\n",
      "##########  1.62 min round |  16.47 min total |  39642.99 day sales |\n",
      "Predict | Day: 11\n",
      "##########  1.60 min round |  18.07 min total |  42019.93 day sales |\n",
      "Predict | Day: 12\n",
      "##########  1.79 min round |  19.87 min total |  46312.38 day sales |\n",
      "Predict | Day: 13\n",
      "##########  1.65 min round |  21.52 min total |  55113.83 day sales |\n",
      "Predict | Day: 14\n",
      "##########  1.65 min round |  23.17 min total |  47391.56 day sales |\n",
      "Predict | Day: 15\n",
      "##########  1.66 min round |  24.84 min total |  46340.00 day sales |\n",
      "Predict | Day: 16\n",
      "##########  1.67 min round |  26.51 min total |  40573.73 day sales |\n",
      "Predict | Day: 17\n",
      "##########  1.57 min round |  28.08 min total |  41795.08 day sales |\n",
      "Predict | Day: 18\n",
      "##########  1.77 min round |  29.85 min total |  42070.64 day sales |\n",
      "Predict | Day: 19\n",
      "##########  1.64 min round |  31.48 min total |  45145.18 day sales |\n",
      "Predict | Day: 20\n",
      "##########  1.68 min round |  33.16 min total |  55616.10 day sales |\n",
      "Predict | Day: 21\n",
      "##########  1.69 min round |  34.85 min total |  59052.11 day sales |\n",
      "Predict | Day: 22\n",
      "##########  1.63 min round |  36.47 min total |  43120.44 day sales |\n",
      "Predict | Day: 23\n",
      "##########  1.64 min round |  38.12 min total |  39036.16 day sales |\n",
      "Predict | Day: 24\n",
      "##########  1.65 min round |  39.77 min total |  37997.41 day sales |\n",
      "Predict | Day: 25\n",
      "##########  1.63 min round |  41.40 min total |  38018.04 day sales |\n",
      "Predict | Day: 26\n",
      "##########  1.59 min round |  42.99 min total |  43121.88 day sales |\n",
      "Predict | Day: 27\n",
      "##########  1.57 min round |  44.56 min total |  52585.44 day sales |\n",
      "Predict | Day: 28\n",
      "##########  1.57 min round |  46.12 min total |  53844.24 day sales |\n"
     ]
    },
    {
     "data": {
      "text/plain": "                                  id        F1        F2        F3        F4  \\\n0      HOBBIES_1_001_CA_1_evaluation  0.848261  0.795400  0.794611  0.838171   \n1      HOBBIES_1_002_CA_1_evaluation  0.181783  0.167809  0.152716  0.166177   \n2      HOBBIES_1_003_CA_1_evaluation  0.468899  0.408352  0.454861  0.440979   \n3      HOBBIES_1_004_CA_1_evaluation  1.645641  1.399950  1.367059  1.559464   \n4      HOBBIES_1_005_CA_1_evaluation  1.022801  0.883259  0.959263  1.021903   \n...                              ...       ...       ...       ...       ...   \n30485    FOODS_3_823_WI_3_evaluation  0.425706  0.406128  0.381083  0.372734   \n30486    FOODS_3_824_WI_3_evaluation  0.318052  0.288158  0.285258  0.281319   \n30487    FOODS_3_825_WI_3_evaluation  0.637820  0.517626  0.474612  0.494682   \n30488    FOODS_3_826_WI_3_evaluation  0.943343  0.891239  0.752536  0.779710   \n30489    FOODS_3_827_WI_3_evaluation  0.189271  0.899679  0.904685  1.390775   \n\n             F5        F6        F7        F8        F9  ...       F19  \\\n0      1.027779  1.222009  1.445239  0.945290  1.019310  ...  0.899318   \n1      0.206811  0.293266  0.296793  0.238486  0.230887  ...  0.258710   \n2      0.599572  0.827995  0.695588  0.535905  0.496406  ...  0.628996   \n3      2.007527  2.677630  2.918485  1.697665  1.453143  ...  1.869482   \n4      1.154769  1.366164  1.546872  1.065341  1.113875  ...  1.106291   \n...         ...       ...       ...       ...       ...  ...       ...   \n30485  0.421276  0.466835  0.498523  0.508609  0.578160  ...  0.510746   \n30486  0.303454  0.363643  0.350875  0.396717  0.435961  ...  0.258869   \n30487  0.605469  0.782783  0.919022  0.930386  0.941985  ...  0.955319   \n30488  0.886183  1.294287  1.320985  1.219451  1.185552  ...  1.095082   \n30489  1.928492  2.501612  2.119509  1.749930  1.862820  ...  1.963425   \n\n            F20       F21       F22       F23       F24       F25       F26  \\\n0      1.258442  1.210328  0.880430  0.795655  0.764226  0.871957  1.033397   \n1      0.303964  0.333444  0.230255  0.214381  0.204716  0.209127  0.219027   \n2      0.730210  0.750833  0.523109  0.461450  0.465226  0.508227  0.641242   \n3      2.451186  2.968196  1.844546  1.565322  1.425019  1.354770  1.847923   \n4      1.551614  1.643015  1.047924  0.911363  0.927251  0.966889  1.167693   \n...         ...       ...       ...       ...       ...       ...       ...   \n30485  0.683349  0.879202  0.502777  0.426068  0.425239  0.401960  0.444662   \n30486  0.369866  0.448530  0.285972  0.261097  0.239789  0.230912  0.233285   \n30487  1.176954  1.484207  1.049948  0.715643  0.687567  0.545614  0.695499   \n30488  1.476958  1.520480  1.027300  1.031962  0.895814  0.902419  1.152629   \n30489  2.570984  2.315515  1.655264  1.603912  1.493410  1.487974  1.743353   \n\n            F27       F28  \n0      1.154834  1.123887  \n1      0.301968  0.288280  \n2      0.724159  0.695044  \n3      2.843252  3.425445  \n4      1.545888  1.471905  \n...         ...       ...  \n30485  0.478030  0.555873  \n30486  0.302802  0.308320  \n30487  0.861326  0.898185  \n30488  1.126893  1.353109  \n30489  2.130164  1.913450  \n\n[30490 rows x 29 columns]",
      "text/html": "<div>\n<style scoped>\n    .dataframe tbody tr th:only-of-type {\n        vertical-align: middle;\n    }\n\n    .dataframe tbody tr th {\n        vertical-align: top;\n    }\n\n    .dataframe thead th {\n        text-align: right;\n    }\n</style>\n<table border=\"1\" class=\"dataframe\">\n  <thead>\n    <tr style=\"text-align: right;\">\n      <th></th>\n      <th>id</th>\n      <th>F1</th>\n      <th>F2</th>\n      <th>F3</th>\n      <th>F4</th>\n      <th>F5</th>\n      <th>F6</th>\n      <th>F7</th>\n      <th>F8</th>\n      <th>F9</th>\n      <th>...</th>\n      <th>F19</th>\n      <th>F20</th>\n      <th>F21</th>\n      <th>F22</th>\n      <th>F23</th>\n      <th>F24</th>\n      <th>F25</th>\n      <th>F26</th>\n      <th>F27</th>\n      <th>F28</th>\n    </tr>\n  </thead>\n  <tbody>\n    <tr>\n      <th>0</th>\n      <td>HOBBIES_1_001_CA_1_evaluation</td>\n      <td>0.848261</td>\n      <td>0.795400</td>\n      <td>0.794611</td>\n      <td>0.838171</td>\n      <td>1.027779</td>\n      <td>1.222009</td>\n      <td>1.445239</td>\n      <td>0.945290</td>\n      <td>1.019310</td>\n      <td>...</td>\n      <td>0.899318</td>\n      <td>1.258442</td>\n      <td>1.210328</td>\n      <td>0.880430</td>\n      <td>0.795655</td>\n      <td>0.764226</td>\n      <td>0.871957</td>\n      <td>1.033397</td>\n      <td>1.154834</td>\n      <td>1.123887</td>\n    </tr>\n    <tr>\n      <th>1</th>\n      <td>HOBBIES_1_002_CA_1_evaluation</td>\n      <td>0.181783</td>\n      <td>0.167809</td>\n      <td>0.152716</td>\n      <td>0.166177</td>\n      <td>0.206811</td>\n      <td>0.293266</td>\n      <td>0.296793</td>\n      <td>0.238486</td>\n      <td>0.230887</td>\n      <td>...</td>\n      <td>0.258710</td>\n      <td>0.303964</td>\n      <td>0.333444</td>\n      <td>0.230255</td>\n      <td>0.214381</td>\n      <td>0.204716</td>\n      <td>0.209127</td>\n      <td>0.219027</td>\n      <td>0.301968</td>\n      <td>0.288280</td>\n    </tr>\n    <tr>\n      <th>2</th>\n      <td>HOBBIES_1_003_CA_1_evaluation</td>\n      <td>0.468899</td>\n      <td>0.408352</td>\n      <td>0.454861</td>\n      <td>0.440979</td>\n      <td>0.599572</td>\n      <td>0.827995</td>\n      <td>0.695588</td>\n      <td>0.535905</td>\n      <td>0.496406</td>\n      <td>...</td>\n      <td>0.628996</td>\n      <td>0.730210</td>\n      <td>0.750833</td>\n      <td>0.523109</td>\n      <td>0.461450</td>\n      <td>0.465226</td>\n      <td>0.508227</td>\n      <td>0.641242</td>\n      <td>0.724159</td>\n      <td>0.695044</td>\n    </tr>\n    <tr>\n      <th>3</th>\n      <td>HOBBIES_1_004_CA_1_evaluation</td>\n      <td>1.645641</td>\n      <td>1.399950</td>\n      <td>1.367059</td>\n      <td>1.559464</td>\n      <td>2.007527</td>\n      <td>2.677630</td>\n      <td>2.918485</td>\n      <td>1.697665</td>\n      <td>1.453143</td>\n      <td>...</td>\n      <td>1.869482</td>\n      <td>2.451186</td>\n      <td>2.968196</td>\n      <td>1.844546</td>\n      <td>1.565322</td>\n      <td>1.425019</td>\n      <td>1.354770</td>\n      <td>1.847923</td>\n      <td>2.843252</td>\n      <td>3.425445</td>\n    </tr>\n    <tr>\n      <th>4</th>\n      <td>HOBBIES_1_005_CA_1_evaluation</td>\n      <td>1.022801</td>\n      <td>0.883259</td>\n      <td>0.959263</td>\n      <td>1.021903</td>\n      <td>1.154769</td>\n      <td>1.366164</td>\n      <td>1.546872</td>\n      <td>1.065341</td>\n      <td>1.113875</td>\n      <td>...</td>\n      <td>1.106291</td>\n      <td>1.551614</td>\n      <td>1.643015</td>\n      <td>1.047924</td>\n      <td>0.911363</td>\n      <td>0.927251</td>\n      <td>0.966889</td>\n      <td>1.167693</td>\n      <td>1.545888</td>\n      <td>1.471905</td>\n    </tr>\n    <tr>\n      <th>...</th>\n      <td>...</td>\n      <td>...</td>\n      <td>...</td>\n      <td>...</td>\n      <td>...</td>\n      <td>...</td>\n      <td>...</td>\n      <td>...</td>\n      <td>...</td>\n      <td>...</td>\n      <td>...</td>\n      <td>...</td>\n      <td>...</td>\n      <td>...</td>\n      <td>...</td>\n      <td>...</td>\n      <td>...</td>\n      <td>...</td>\n      <td>...</td>\n      <td>...</td>\n      <td>...</td>\n    </tr>\n    <tr>\n      <th>30485</th>\n      <td>FOODS_3_823_WI_3_evaluation</td>\n      <td>0.425706</td>\n      <td>0.406128</td>\n      <td>0.381083</td>\n      <td>0.372734</td>\n      <td>0.421276</td>\n      <td>0.466835</td>\n      <td>0.498523</td>\n      <td>0.508609</td>\n      <td>0.578160</td>\n      <td>...</td>\n      <td>0.510746</td>\n      <td>0.683349</td>\n      <td>0.879202</td>\n      <td>0.502777</td>\n      <td>0.426068</td>\n      <td>0.425239</td>\n      <td>0.401960</td>\n      <td>0.444662</td>\n      <td>0.478030</td>\n      <td>0.555873</td>\n    </tr>\n    <tr>\n      <th>30486</th>\n      <td>FOODS_3_824_WI_3_evaluation</td>\n      <td>0.318052</td>\n      <td>0.288158</td>\n      <td>0.285258</td>\n      <td>0.281319</td>\n      <td>0.303454</td>\n      <td>0.363643</td>\n      <td>0.350875</td>\n      <td>0.396717</td>\n      <td>0.435961</td>\n      <td>...</td>\n      <td>0.258869</td>\n      <td>0.369866</td>\n      <td>0.448530</td>\n      <td>0.285972</td>\n      <td>0.261097</td>\n      <td>0.239789</td>\n      <td>0.230912</td>\n      <td>0.233285</td>\n      <td>0.302802</td>\n      <td>0.308320</td>\n    </tr>\n    <tr>\n      <th>30487</th>\n      <td>FOODS_3_825_WI_3_evaluation</td>\n      <td>0.637820</td>\n      <td>0.517626</td>\n      <td>0.474612</td>\n      <td>0.494682</td>\n      <td>0.605469</td>\n      <td>0.782783</td>\n      <td>0.919022</td>\n      <td>0.930386</td>\n      <td>0.941985</td>\n      <td>...</td>\n      <td>0.955319</td>\n      <td>1.176954</td>\n      <td>1.484207</td>\n      <td>1.049948</td>\n      <td>0.715643</td>\n      <td>0.687567</td>\n      <td>0.545614</td>\n      <td>0.695499</td>\n      <td>0.861326</td>\n      <td>0.898185</td>\n    </tr>\n    <tr>\n      <th>30488</th>\n      <td>FOODS_3_826_WI_3_evaluation</td>\n      <td>0.943343</td>\n      <td>0.891239</td>\n      <td>0.752536</td>\n      <td>0.779710</td>\n      <td>0.886183</td>\n      <td>1.294287</td>\n      <td>1.320985</td>\n      <td>1.219451</td>\n      <td>1.185552</td>\n      <td>...</td>\n      <td>1.095082</td>\n      <td>1.476958</td>\n      <td>1.520480</td>\n      <td>1.027300</td>\n      <td>1.031962</td>\n      <td>0.895814</td>\n      <td>0.902419</td>\n      <td>1.152629</td>\n      <td>1.126893</td>\n      <td>1.353109</td>\n    </tr>\n    <tr>\n      <th>30489</th>\n      <td>FOODS_3_827_WI_3_evaluation</td>\n      <td>0.189271</td>\n      <td>0.899679</td>\n      <td>0.904685</td>\n      <td>1.390775</td>\n      <td>1.928492</td>\n      <td>2.501612</td>\n      <td>2.119509</td>\n      <td>1.749930</td>\n      <td>1.862820</td>\n      <td>...</td>\n      <td>1.963425</td>\n      <td>2.570984</td>\n      <td>2.315515</td>\n      <td>1.655264</td>\n      <td>1.603912</td>\n      <td>1.493410</td>\n      <td>1.487974</td>\n      <td>1.743353</td>\n      <td>2.130164</td>\n      <td>1.913450</td>\n    </tr>\n  </tbody>\n</table>\n<p>30490 rows × 29 columns</p>\n</div>"
     },
     "execution_count": 11,
     "metadata": {},
     "output_type": "execute_result"
    }
   ],
   "source": [
    "########################### Predict\n",
    "#################################################################################\n",
    "\n",
    "all_preds = pd.DataFrame()\n",
    "\n",
    "# Join back the Test dataset with \n",
    "# a small part of the training data \n",
    "# to make recursive features\n",
    "base_test = get_base_test()\n",
    "\n",
    "main_time = time.time()\n",
    "\n",
    "for PREDICT_DAY in range(1,29):    \n",
    "    print('Predict | Day:', PREDICT_DAY)\n",
    "    start_time = time.time()\n",
    "\n",
    "    grid_df = base_test.copy()\n",
    "    \n",
    "    # slow for loop version\n",
    "    temp = []\n",
    "    for a in ROLS_SPLIT:\n",
    "        temp.append(make_lag_roll(a))\n",
    "    temp = pd.concat(temp, axis=1)\n",
    "    grid_df = pd.concat([grid_df, temp], axis=1)\n",
    "    del temp; gc.collect()\n",
    "    ###\n",
    "    \n",
    "    # fast multiprocessing version\n",
    "    #     grid_df = pd.concat([grid_df, df_parallelize_run(make_lag_roll, ROLS_SPLIT)], axis=1)\n",
    "    ###\n",
    "    \n",
    "    for store_id in STORES_IDS:\n",
    "        \n",
    "        model_path = model_dir+'lgb_model_'+store_id+'_v'+str(VER)+'.bin' \n",
    "        if USE_AUX:\n",
    "            model_path = AUX_MODELS + model_path\n",
    "\n",
    "        estimator = pickle.load(open(model_path, 'rb'))\n",
    "\n",
    "        day_mask = base_test['d']==(END_TRAIN+PREDICT_DAY)\n",
    "        store_mask = base_test['store_id']==store_id\n",
    "\n",
    "        mask = (day_mask)&(store_mask)\n",
    "        base_test[TARGET][mask] = estimator.predict(grid_df[mask][MODEL_FEATURES])\n",
    "\n",
    "    temp_df = base_test[day_mask][['id',TARGET]]\n",
    "    temp_df.columns = ['id','F'+str(PREDICT_DAY)]\n",
    "    if 'id' in list(all_preds):\n",
    "        all_preds = all_preds.merge(temp_df, on=['id'], how='left')\n",
    "    else:\n",
    "        all_preds = temp_df.copy()\n",
    "        \n",
    "    print('#'*10, ' %0.2f min round |' % ((time.time() - start_time) / 60),\n",
    "                  ' %0.2f min total |' % ((time.time() - main_time) / 60),\n",
    "                  ' %0.2f day sales |' % (temp_df['F'+str(PREDICT_DAY)].sum()))\n",
    "\n",
    "    del temp_df\n",
    "    \n",
    "all_preds = all_preds.reset_index(drop=True)\n",
    "all_preds"
   ]
  },
  {
   "cell_type": "code",
   "execution_count": 12,
   "metadata": {
    "ExecuteTime": {
     "end_time": "2024-04-08T20:05:29.639920Z",
     "start_time": "2024-04-08T20:05:28.072781Z"
    }
   },
   "outputs": [],
   "source": [
    "########################### Export\n",
    "#################################################################################\n",
    "submission = pd.read_csv(ORIGINAL+'sample_submission.csv')[['id']]\n",
    "submission = submission.merge(all_preds, on=['id'], how='left').fillna(0)\n",
    "submission.to_csv(submission_dir+'before_ensemble/submission_kaggle_recursive_store.csv', index=False)"
   ]
  },
  {
   "cell_type": "code",
   "outputs": [],
   "source": [],
   "metadata": {
    "collapsed": false,
    "ExecuteTime": {
     "end_time": "2024-04-08T20:05:29.655916Z",
     "start_time": "2024-04-08T20:05:29.640918Z"
    }
   },
   "execution_count": 12
  }
 ],
 "metadata": {
  "hide_input": false,
  "kernelspec": {
   "display_name": "Python 3",
   "language": "python",
   "name": "python3"
  },
  "language_info": {
   "codemirror_mode": {
    "name": "ipython",
    "version": 3
   },
   "file_extension": ".py",
   "mimetype": "text/x-python",
   "name": "python",
   "nbconvert_exporter": "python",
   "pygments_lexer": "ipython3",
   "version": "3.7.3"
  }
 },
 "nbformat": 4,
 "nbformat_minor": 4
}
