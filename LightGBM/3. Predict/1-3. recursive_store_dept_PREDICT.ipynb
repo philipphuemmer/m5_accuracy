{
 "cells": [
  {
   "cell_type": "markdown",
   "metadata": {},
   "source": [
    "## Please input your directory for the top level folder"
   ]
  },
  {
   "cell_type": "code",
   "execution_count": 1,
   "metadata": {
    "ExecuteTime": {
     "end_time": "2024-04-09T08:13:14.737477Z",
     "start_time": "2024-04-09T08:13:14.724478Z"
    }
   },
   "outputs": [],
   "source": [
    "dir_ = 'E:/Seminararbeit/Code/A1/' # input only here"
   ]
  },
  {
   "cell_type": "markdown",
   "metadata": {},
   "source": [
    "#### setting other directory"
   ]
  },
  {
   "cell_type": "code",
   "execution_count": 2,
   "metadata": {
    "ExecuteTime": {
     "end_time": "2024-04-09T08:13:14.753475Z",
     "start_time": "2024-04-09T08:13:14.739479Z"
    }
   },
   "outputs": [],
   "source": [
    "raw_data_dir = dir_+'2. data/'\n",
    "processed_data_dir = dir_+'2. data/processed/'\n",
    "log_dir = dir_+'4. logs/'\n",
    "model_dir = dir_+'5. models/'\n",
    "submission_dir = dir_+'6. submissions/'"
   ]
  },
  {
   "cell_type": "code",
   "execution_count": 3,
   "metadata": {
    "ExecuteTime": {
     "end_time": "2024-04-09T08:13:14.769477Z",
     "start_time": "2024-04-09T08:13:14.755475Z"
    }
   },
   "outputs": [],
   "source": [
    "####################################################################################\n",
    "##################### 1-3. recursive model by store & dept #########################\n",
    "####################################################################################"
   ]
  },
  {
   "cell_type": "code",
   "execution_count": 4,
   "metadata": {
    "ExecuteTime": {
     "end_time": "2024-04-09T08:13:14.785476Z",
     "start_time": "2024-04-09T08:13:14.771477Z"
    }
   },
   "outputs": [],
   "source": [
    "ver, KKK = 'priv', 1"
   ]
  },
  {
   "cell_type": "code",
   "execution_count": 5,
   "metadata": {
    "ExecuteTime": {
     "end_time": "2024-04-09T08:13:14.800475Z",
     "start_time": "2024-04-09T08:13:14.787475Z"
    }
   },
   "outputs": [],
   "source": [
    "STORES = ['CA_1', 'CA_2', 'CA_3', 'CA_4', 'TX_1', 'TX_2', 'TX_3', 'WI_1', 'WI_2', 'WI_3']\n",
    "DEPTS = ['HOBBIES_1', 'HOBBIES_2', 'HOUSEHOLD_1', 'HOUSEHOLD_2', 'FOODS_1', 'FOODS_2', 'FOODS_3']"
   ]
  },
  {
   "cell_type": "code",
   "execution_count": 6,
   "metadata": {
    "_cell_guid": "b1076dfc-b9ad-4769-8c92-a6c4dae69d19",
    "_uuid": "8f2839f25d086af736a60e9eeb907d3b93b6e0e5",
    "ExecuteTime": {
     "end_time": "2024-04-09T08:13:19.091269Z",
     "start_time": "2024-04-09T08:13:14.803477Z"
    }
   },
   "outputs": [],
   "source": [
    "# General imports\n",
    "import numpy as np\n",
    "import pandas as pd\n",
    "import os, sys, gc, time, warnings, pickle, psutil, random\n",
    "\n",
    "# custom imports\n",
    "from multiprocessing import Pool\n",
    "\n",
    "warnings.filterwarnings('ignore')"
   ]
  },
  {
   "cell_type": "code",
   "execution_count": 7,
   "metadata": {
    "ExecuteTime": {
     "end_time": "2024-04-09T08:13:19.107271Z",
     "start_time": "2024-04-09T08:13:19.093271Z"
    }
   },
   "outputs": [],
   "source": [
    "########################### Helpers\n",
    "#################################################################################\n",
    "## Seeder\n",
    "# :seed to make all processes deterministic     # type: int\n",
    "def seed_everything(seed=0):\n",
    "    random.seed(seed)\n",
    "    np.random.seed(seed)\n",
    "\n",
    "    \n",
    "## Multiprocess Runs\n",
    "def df_parallelize_run(func, t_split):\n",
    "    num_cores = np.min([N_CORES,len(t_split)])\n",
    "    pool = Pool(num_cores)\n",
    "    df = pd.concat(pool.map(func, t_split), axis=1)\n",
    "    pool.close()\n",
    "    pool.join()\n",
    "    return df"
   ]
  },
  {
   "cell_type": "code",
   "execution_count": 8,
   "metadata": {
    "ExecuteTime": {
     "end_time": "2024-04-09T08:13:19.122272Z",
     "start_time": "2024-04-09T08:13:19.109271Z"
    }
   },
   "outputs": [],
   "source": [
    "########################### Helper to load data by store ID\n",
    "#################################################################################\n",
    "# Read data\n",
    "def get_data_by_store(store, dept):\n",
    "    \n",
    "    # Read and contact basic feature\n",
    "    df = pd.concat([pd.read_pickle(BASE),\n",
    "                    pd.read_pickle(PRICE).iloc[:,2:],\n",
    "                    pd.read_pickle(CALENDAR).iloc[:,2:]],\n",
    "                    axis=1)\n",
    "    \n",
    "    df = df[df['d']>=START_TRAIN]\n",
    "    \n",
    "    df = df[(df['store_id']==store) & (df['dept_id']==dept)]\n",
    "\n",
    "    df2 = pd.read_pickle(MEAN_ENC)[mean_features]\n",
    "    df2 = df2[df2.index.isin(df.index)]\n",
    "    \n",
    "    df3 = pd.read_pickle(LAGS).iloc[:,3:]\n",
    "    df3 = df3[df3.index.isin(df.index)]\n",
    "    \n",
    "    df = pd.concat([df, df2], axis=1)\n",
    "    del df2\n",
    "    \n",
    "    df = pd.concat([df, df3], axis=1)\n",
    "    del df3\n",
    "    \n",
    "    features = [col for col in list(df) if col not in remove_features]\n",
    "    df = df[['id','d',TARGET]+features]\n",
    "    \n",
    "    df = df.reset_index(drop=True)\n",
    "    \n",
    "    return df, features\n",
    "\n",
    "# Recombine Test set after training\n",
    "def get_base_test():\n",
    "    base_test = pd.DataFrame()\n",
    "\n",
    "    for store_id in STORES:\n",
    "        for state_id in DEPTS:\n",
    "            temp_df = pd.read_pickle(processed_data_dir+'test_'+store_id+'_'+state_id+'.pkl')\n",
    "            temp_df['store_id'] = store_id\n",
    "            temp_df['dept_id'] = state_id\n",
    "            base_test = pd.concat([base_test, temp_df]).reset_index(drop=True)\n",
    "    \n",
    "    return base_test\n",
    "\n",
    "\n",
    "########################### Helper to make dynamic rolling lags\n",
    "#################################################################################\n",
    "def make_lag(LAG_DAY):\n",
    "    lag_df = base_test[['id','d',TARGET]]\n",
    "    col_name = 'sales_lag_'+str(LAG_DAY)\n",
    "    lag_df[col_name] = lag_df.groupby(['id'])[TARGET].transform(lambda x: x.shift(LAG_DAY)).astype(np.float16)\n",
    "    return lag_df[[col_name]]\n",
    "\n",
    "\n",
    "def make_lag_roll(LAG_DAY):\n",
    "    shift_day = LAG_DAY[0]\n",
    "    roll_wind = LAG_DAY[1]\n",
    "    lag_df = base_test[['id','d',TARGET]]\n",
    "    col_name = 'rolling_mean_tmp_'+str(shift_day)+'_'+str(roll_wind)\n",
    "    lag_df[col_name] = lag_df.groupby(['id'])[TARGET].transform(lambda x: x.shift(shift_day).rolling(roll_wind).mean())\n",
    "    return lag_df[[col_name]]"
   ]
  },
  {
   "cell_type": "code",
   "execution_count": 9,
   "metadata": {
    "ExecuteTime": {
     "end_time": "2024-04-09T08:13:21.149892Z",
     "start_time": "2024-04-09T08:13:19.123271Z"
    }
   },
   "outputs": [],
   "source": [
    "########################### Model params\n",
    "#################################################################################\n",
    "import lightgbm as lgb\n",
    "lgb_params = {\n",
    "                    'boosting_type': 'gbdt',\n",
    "                    'objective': 'tweedie',\n",
    "                    'tweedie_variance_power': 1.1,\n",
    "                    'metric': 'rmse',\n",
    "                    'subsample': 0.5,\n",
    "                    'subsample_freq': 1,\n",
    "                    'learning_rate': 0.015,\n",
    "                    'num_leaves': 2**8-1,\n",
    "                    'min_data_in_leaf': 2**8-1,\n",
    "                    'feature_fraction': 0.5,\n",
    "                    'max_bin': 100,\n",
    "                    'n_estimators': 3000,\n",
    "                    'boost_from_average': False,\n",
    "                    'verbose': -1\n",
    "                } "
   ]
  },
  {
   "cell_type": "code",
   "execution_count": 9,
   "metadata": {
    "ExecuteTime": {
     "end_time": "2024-04-09T08:13:21.165892Z",
     "start_time": "2024-04-09T08:13:21.151891Z"
    }
   },
   "outputs": [],
   "source": []
  },
  {
   "cell_type": "code",
   "execution_count": 10,
   "metadata": {
    "ExecuteTime": {
     "end_time": "2024-04-09T08:13:21.181891Z",
     "start_time": "2024-04-09T08:13:21.167892Z"
    }
   },
   "outputs": [],
   "source": [
    "########################### Vars\n",
    "#################################################################################\n",
    "VER = 1                          \n",
    "SEED = 42                        \n",
    "seed_everything(SEED)            \n",
    "lgb_params['seed'] = SEED        \n",
    "N_CORES = psutil.cpu_count()     \n",
    "\n",
    "\n",
    "#LIMITS and const\n",
    "TARGET      = 'sales'            \n",
    "START_TRAIN = 700                \n",
    "END_TRAIN   = 1941 - 28*KKK      \n",
    "P_HORIZON   = 28                 \n",
    "USE_AUX     = False             \n",
    "\n",
    "remove_features = ['id','cat_id', 'state_id','store_id','dept_id',\n",
    "                   'date','wm_yr_wk','d',TARGET]\n",
    "mean_features   = ['enc_item_id_store_id_mean','enc_item_id_store_id_std'] \n",
    "\n",
    "ORIGINAL = raw_data_dir\n",
    "BASE     = processed_data_dir+'processedgrid_part_1.pkl'\n",
    "PRICE    = processed_data_dir+'processedgrid_part_2.pkl'\n",
    "CALENDAR = processed_data_dir+'processedgrid_part_3.pkl'\n",
    "LAGS     = processed_data_dir+'processedlags_df_28.pkl'\n",
    "MEAN_ENC = processed_data_dir+'processedmean_encoding_df.pkl'\n",
    "\n",
    "\n",
    "#SPLITS for lags creation\n",
    "SHIFT_DAY  = 28\n",
    "N_LAGS     = 15\n",
    "LAGS_SPLIT = [col for col in range(SHIFT_DAY,SHIFT_DAY+N_LAGS)]\n",
    "ROLS_SPLIT = []\n",
    "for i in [1,7,14]:\n",
    "    for j in [7,14,30,60]:\n",
    "        ROLS_SPLIT.append([i,j])"
   ]
  },
  {
   "cell_type": "code",
   "execution_count": 11,
   "metadata": {
    "ExecuteTime": {
     "end_time": "2024-04-09T08:15:10.625124Z",
     "start_time": "2024-04-09T08:13:21.184891Z"
    }
   },
   "outputs": [
    {
     "data": {
      "text/plain": "0"
     },
     "execution_count": 11,
     "metadata": {},
     "output_type": "execute_result"
    }
   ],
   "source": [
    "_, MODEL_FEATURES = get_data_by_store(STORES[-1], DEPTS[-1])\n",
    "del _; gc.collect()"
   ]
  },
  {
   "cell_type": "code",
   "execution_count": 12,
   "metadata": {
    "ExecuteTime": {
     "end_time": "2024-04-09T09:36:25.536674Z",
     "start_time": "2024-04-09T08:15:10.635127Z"
    }
   },
   "outputs": [
    {
     "name": "stdout",
     "output_type": "stream",
     "text": [
      "Predict | Day: 1\n",
      "##########  2.94 min round |  2.94 min total |  37235.62 day sales |\n",
      "Predict | Day: 2\n",
      "##########  2.90 min round |  5.85 min total |  35666.00 day sales |\n",
      "Predict | Day: 3\n",
      "##########  2.89 min round |  8.74 min total |  35111.17 day sales |\n",
      "Predict | Day: 4\n",
      "##########  2.86 min round |  11.60 min total |  35670.27 day sales |\n",
      "Predict | Day: 5\n",
      "##########  2.97 min round |  14.57 min total |  41981.09 day sales |\n",
      "Predict | Day: 6\n",
      "##########  2.88 min round |  17.45 min total |  51167.47 day sales |\n",
      "Predict | Day: 7\n",
      "##########  2.88 min round |  20.32 min total |  54277.83 day sales |\n",
      "Predict | Day: 8\n",
      "##########  2.87 min round |  23.20 min total |  44638.23 day sales |\n",
      "Predict | Day: 9\n",
      "##########  2.88 min round |  26.08 min total |  44863.96 day sales |\n",
      "Predict | Day: 10\n",
      "##########  2.88 min round |  28.96 min total |  39514.59 day sales |\n",
      "Predict | Day: 11\n",
      "##########  2.89 min round |  31.85 min total |  40801.42 day sales |\n",
      "Predict | Day: 12\n",
      "##########  2.87 min round |  34.72 min total |  45610.87 day sales |\n",
      "Predict | Day: 13\n",
      "##########  2.87 min round |  37.59 min total |  54456.33 day sales |\n",
      "Predict | Day: 14\n",
      "##########  2.86 min round |  40.45 min total |  46259.84 day sales |\n",
      "Predict | Day: 15\n",
      "##########  2.88 min round |  43.33 min total |  45757.55 day sales |\n",
      "Predict | Day: 16\n",
      "##########  2.88 min round |  46.21 min total |  39732.49 day sales |\n",
      "Predict | Day: 17\n",
      "##########  2.90 min round |  49.12 min total |  41181.87 day sales |\n",
      "Predict | Day: 18\n",
      "##########  2.88 min round |  52.00 min total |  41418.83 day sales |\n",
      "Predict | Day: 19\n",
      "##########  2.87 min round |  54.87 min total |  44340.05 day sales |\n",
      "Predict | Day: 20\n",
      "##########  2.89 min round |  57.75 min total |  54798.78 day sales |\n",
      "Predict | Day: 21\n",
      "##########  2.88 min round |  60.64 min total |  57651.91 day sales |\n",
      "Predict | Day: 22\n",
      "##########  2.89 min round |  63.53 min total |  42085.22 day sales |\n",
      "Predict | Day: 23\n",
      "##########  2.89 min round |  66.42 min total |  38373.67 day sales |\n",
      "Predict | Day: 24\n",
      "##########  2.88 min round |  69.31 min total |  37380.97 day sales |\n",
      "Predict | Day: 25\n",
      "##########  2.89 min round |  72.19 min total |  37396.09 day sales |\n",
      "Predict | Day: 26\n",
      "##########  2.91 min round |  75.10 min total |  42133.84 day sales |\n",
      "Predict | Day: 27\n",
      "##########  2.90 min round |  78.00 min total |  51488.12 day sales |\n",
      "Predict | Day: 28\n",
      "##########  2.89 min round |  80.89 min total |  52259.29 day sales |\n"
     ]
    },
    {
     "data": {
      "text/plain": "                                  id        F1        F2        F3        F4  \\\n0      HOBBIES_1_001_CA_1_evaluation  0.799927  0.772724  0.764112  0.880378   \n1      HOBBIES_1_002_CA_1_evaluation  0.173316  0.178508  0.137261  0.132027   \n2      HOBBIES_1_003_CA_1_evaluation  0.352776  0.368627  0.411027  0.417214   \n3      HOBBIES_1_004_CA_1_evaluation  1.594861  1.338960  1.484863  1.505753   \n4      HOBBIES_1_005_CA_1_evaluation  0.946563  0.994256  0.876218  1.212108   \n...                              ...       ...       ...       ...       ...   \n30485    FOODS_3_823_WI_3_evaluation  0.374584  0.339850  0.353514  0.372094   \n30486    FOODS_3_824_WI_3_evaluation  0.301802  0.306624  0.315777  0.285400   \n30487    FOODS_3_825_WI_3_evaluation  0.578341  0.473111  0.462747  0.465308   \n30488    FOODS_3_826_WI_3_evaluation  1.105958  1.159991  1.002856  0.981979   \n30489    FOODS_3_827_WI_3_evaluation  0.208791  1.451235  1.632072  1.933451   \n\n             F5        F6        F7        F8        F9  ...       F19  \\\n0      0.990771  1.741182  2.029620  0.761549  0.781596  ...  0.880124   \n1      0.159516  0.188746  0.186295  0.186236  0.217918  ...  0.230739   \n2      0.651729  1.206851  0.739413  0.388486  0.437813  ...  0.663843   \n3      2.398626  2.010849  5.260374  1.560185  1.255845  ...  1.672990   \n4      1.121769  1.196505  1.964862  1.068783  1.166742  ...  1.118524   \n...         ...       ...       ...       ...       ...  ...       ...   \n30485  0.472426  0.405977  0.557681  0.559257  0.619831  ...  0.605758   \n30486  0.299622  0.250444  0.279291  0.394560  0.432932  ...  0.295035   \n30487  0.535376  0.907616  0.887313  1.175855  1.088633  ...  1.016358   \n30488  1.075781  1.536217  1.064442  1.444656  1.340458  ...  0.923441   \n30489  2.251990  3.172803  2.049503  1.956084  1.956440  ...  1.814725   \n\n            F20       F21       F22       F23       F24       F25       F26  \\\n0      1.334448  1.095455  0.960329  0.765107  0.824674  0.929891  1.205205   \n1      0.268079  0.265129  0.238470  0.242851  0.239941  0.234909  0.217037   \n2      0.794842  0.864841  0.478941  0.436448  0.426103  0.475984  0.679008   \n3      2.314300  3.010407  1.772524  1.424043  1.286733  1.294112  1.591070   \n4      1.743332  1.411777  1.044614  0.898319  0.952915  0.873641  1.074025   \n...         ...       ...       ...       ...       ...       ...       ...   \n30485  0.703704  0.835884  0.558241  0.497683  0.503031  0.477493  0.556647   \n30486  0.343769  0.431439  0.302282  0.252271  0.249513  0.231823  0.219221   \n30487  1.316070  1.553567  1.056237  0.762789  0.735355  0.635632  0.728866   \n30488  1.278273  1.464129  1.177274  1.216188  0.921373  0.998096  1.032207   \n30489  2.126080  2.260526  2.036645  1.939893  1.778424  1.666131  1.835560   \n\n            F27       F28  \n0      1.345028  1.125643  \n1      0.297643  0.272131  \n2      0.724619  0.741344  \n3      3.141232  3.855611  \n4      1.383988  1.592838  \n...         ...       ...  \n30485  0.634773  0.743839  \n30486  0.278736  0.294839  \n30487  0.884449  0.805866  \n30488  1.175204  1.324165  \n30489  2.120523  1.998526  \n\n[30490 rows x 29 columns]",
      "text/html": "<div>\n<style scoped>\n    .dataframe tbody tr th:only-of-type {\n        vertical-align: middle;\n    }\n\n    .dataframe tbody tr th {\n        vertical-align: top;\n    }\n\n    .dataframe thead th {\n        text-align: right;\n    }\n</style>\n<table border=\"1\" class=\"dataframe\">\n  <thead>\n    <tr style=\"text-align: right;\">\n      <th></th>\n      <th>id</th>\n      <th>F1</th>\n      <th>F2</th>\n      <th>F3</th>\n      <th>F4</th>\n      <th>F5</th>\n      <th>F6</th>\n      <th>F7</th>\n      <th>F8</th>\n      <th>F9</th>\n      <th>...</th>\n      <th>F19</th>\n      <th>F20</th>\n      <th>F21</th>\n      <th>F22</th>\n      <th>F23</th>\n      <th>F24</th>\n      <th>F25</th>\n      <th>F26</th>\n      <th>F27</th>\n      <th>F28</th>\n    </tr>\n  </thead>\n  <tbody>\n    <tr>\n      <th>0</th>\n      <td>HOBBIES_1_001_CA_1_evaluation</td>\n      <td>0.799927</td>\n      <td>0.772724</td>\n      <td>0.764112</td>\n      <td>0.880378</td>\n      <td>0.990771</td>\n      <td>1.741182</td>\n      <td>2.029620</td>\n      <td>0.761549</td>\n      <td>0.781596</td>\n      <td>...</td>\n      <td>0.880124</td>\n      <td>1.334448</td>\n      <td>1.095455</td>\n      <td>0.960329</td>\n      <td>0.765107</td>\n      <td>0.824674</td>\n      <td>0.929891</td>\n      <td>1.205205</td>\n      <td>1.345028</td>\n      <td>1.125643</td>\n    </tr>\n    <tr>\n      <th>1</th>\n      <td>HOBBIES_1_002_CA_1_evaluation</td>\n      <td>0.173316</td>\n      <td>0.178508</td>\n      <td>0.137261</td>\n      <td>0.132027</td>\n      <td>0.159516</td>\n      <td>0.188746</td>\n      <td>0.186295</td>\n      <td>0.186236</td>\n      <td>0.217918</td>\n      <td>...</td>\n      <td>0.230739</td>\n      <td>0.268079</td>\n      <td>0.265129</td>\n      <td>0.238470</td>\n      <td>0.242851</td>\n      <td>0.239941</td>\n      <td>0.234909</td>\n      <td>0.217037</td>\n      <td>0.297643</td>\n      <td>0.272131</td>\n    </tr>\n    <tr>\n      <th>2</th>\n      <td>HOBBIES_1_003_CA_1_evaluation</td>\n      <td>0.352776</td>\n      <td>0.368627</td>\n      <td>0.411027</td>\n      <td>0.417214</td>\n      <td>0.651729</td>\n      <td>1.206851</td>\n      <td>0.739413</td>\n      <td>0.388486</td>\n      <td>0.437813</td>\n      <td>...</td>\n      <td>0.663843</td>\n      <td>0.794842</td>\n      <td>0.864841</td>\n      <td>0.478941</td>\n      <td>0.436448</td>\n      <td>0.426103</td>\n      <td>0.475984</td>\n      <td>0.679008</td>\n      <td>0.724619</td>\n      <td>0.741344</td>\n    </tr>\n    <tr>\n      <th>3</th>\n      <td>HOBBIES_1_004_CA_1_evaluation</td>\n      <td>1.594861</td>\n      <td>1.338960</td>\n      <td>1.484863</td>\n      <td>1.505753</td>\n      <td>2.398626</td>\n      <td>2.010849</td>\n      <td>5.260374</td>\n      <td>1.560185</td>\n      <td>1.255845</td>\n      <td>...</td>\n      <td>1.672990</td>\n      <td>2.314300</td>\n      <td>3.010407</td>\n      <td>1.772524</td>\n      <td>1.424043</td>\n      <td>1.286733</td>\n      <td>1.294112</td>\n      <td>1.591070</td>\n      <td>3.141232</td>\n      <td>3.855611</td>\n    </tr>\n    <tr>\n      <th>4</th>\n      <td>HOBBIES_1_005_CA_1_evaluation</td>\n      <td>0.946563</td>\n      <td>0.994256</td>\n      <td>0.876218</td>\n      <td>1.212108</td>\n      <td>1.121769</td>\n      <td>1.196505</td>\n      <td>1.964862</td>\n      <td>1.068783</td>\n      <td>1.166742</td>\n      <td>...</td>\n      <td>1.118524</td>\n      <td>1.743332</td>\n      <td>1.411777</td>\n      <td>1.044614</td>\n      <td>0.898319</td>\n      <td>0.952915</td>\n      <td>0.873641</td>\n      <td>1.074025</td>\n      <td>1.383988</td>\n      <td>1.592838</td>\n    </tr>\n    <tr>\n      <th>...</th>\n      <td>...</td>\n      <td>...</td>\n      <td>...</td>\n      <td>...</td>\n      <td>...</td>\n      <td>...</td>\n      <td>...</td>\n      <td>...</td>\n      <td>...</td>\n      <td>...</td>\n      <td>...</td>\n      <td>...</td>\n      <td>...</td>\n      <td>...</td>\n      <td>...</td>\n      <td>...</td>\n      <td>...</td>\n      <td>...</td>\n      <td>...</td>\n      <td>...</td>\n      <td>...</td>\n    </tr>\n    <tr>\n      <th>30485</th>\n      <td>FOODS_3_823_WI_3_evaluation</td>\n      <td>0.374584</td>\n      <td>0.339850</td>\n      <td>0.353514</td>\n      <td>0.372094</td>\n      <td>0.472426</td>\n      <td>0.405977</td>\n      <td>0.557681</td>\n      <td>0.559257</td>\n      <td>0.619831</td>\n      <td>...</td>\n      <td>0.605758</td>\n      <td>0.703704</td>\n      <td>0.835884</td>\n      <td>0.558241</td>\n      <td>0.497683</td>\n      <td>0.503031</td>\n      <td>0.477493</td>\n      <td>0.556647</td>\n      <td>0.634773</td>\n      <td>0.743839</td>\n    </tr>\n    <tr>\n      <th>30486</th>\n      <td>FOODS_3_824_WI_3_evaluation</td>\n      <td>0.301802</td>\n      <td>0.306624</td>\n      <td>0.315777</td>\n      <td>0.285400</td>\n      <td>0.299622</td>\n      <td>0.250444</td>\n      <td>0.279291</td>\n      <td>0.394560</td>\n      <td>0.432932</td>\n      <td>...</td>\n      <td>0.295035</td>\n      <td>0.343769</td>\n      <td>0.431439</td>\n      <td>0.302282</td>\n      <td>0.252271</td>\n      <td>0.249513</td>\n      <td>0.231823</td>\n      <td>0.219221</td>\n      <td>0.278736</td>\n      <td>0.294839</td>\n    </tr>\n    <tr>\n      <th>30487</th>\n      <td>FOODS_3_825_WI_3_evaluation</td>\n      <td>0.578341</td>\n      <td>0.473111</td>\n      <td>0.462747</td>\n      <td>0.465308</td>\n      <td>0.535376</td>\n      <td>0.907616</td>\n      <td>0.887313</td>\n      <td>1.175855</td>\n      <td>1.088633</td>\n      <td>...</td>\n      <td>1.016358</td>\n      <td>1.316070</td>\n      <td>1.553567</td>\n      <td>1.056237</td>\n      <td>0.762789</td>\n      <td>0.735355</td>\n      <td>0.635632</td>\n      <td>0.728866</td>\n      <td>0.884449</td>\n      <td>0.805866</td>\n    </tr>\n    <tr>\n      <th>30488</th>\n      <td>FOODS_3_826_WI_3_evaluation</td>\n      <td>1.105958</td>\n      <td>1.159991</td>\n      <td>1.002856</td>\n      <td>0.981979</td>\n      <td>1.075781</td>\n      <td>1.536217</td>\n      <td>1.064442</td>\n      <td>1.444656</td>\n      <td>1.340458</td>\n      <td>...</td>\n      <td>0.923441</td>\n      <td>1.278273</td>\n      <td>1.464129</td>\n      <td>1.177274</td>\n      <td>1.216188</td>\n      <td>0.921373</td>\n      <td>0.998096</td>\n      <td>1.032207</td>\n      <td>1.175204</td>\n      <td>1.324165</td>\n    </tr>\n    <tr>\n      <th>30489</th>\n      <td>FOODS_3_827_WI_3_evaluation</td>\n      <td>0.208791</td>\n      <td>1.451235</td>\n      <td>1.632072</td>\n      <td>1.933451</td>\n      <td>2.251990</td>\n      <td>3.172803</td>\n      <td>2.049503</td>\n      <td>1.956084</td>\n      <td>1.956440</td>\n      <td>...</td>\n      <td>1.814725</td>\n      <td>2.126080</td>\n      <td>2.260526</td>\n      <td>2.036645</td>\n      <td>1.939893</td>\n      <td>1.778424</td>\n      <td>1.666131</td>\n      <td>1.835560</td>\n      <td>2.120523</td>\n      <td>1.998526</td>\n    </tr>\n  </tbody>\n</table>\n<p>30490 rows × 29 columns</p>\n</div>"
     },
     "execution_count": 12,
     "metadata": {},
     "output_type": "execute_result"
    }
   ],
   "source": [
    "########################### Predict\n",
    "#################################################################################\n",
    "\n",
    "all_preds = pd.DataFrame()\n",
    "\n",
    "# Join back the Test dataset with \n",
    "# a small part of the training data \n",
    "# to make recursive features\n",
    "base_test = get_base_test()\n",
    "\n",
    "main_time = time.time()\n",
    "\n",
    "for PREDICT_DAY in range(1,29):    \n",
    "    print('Predict | Day:', PREDICT_DAY)\n",
    "    start_time = time.time()\n",
    "\n",
    "    grid_df = base_test.copy()\n",
    "    \n",
    "    # slow for loop version\n",
    "    temp = []\n",
    "    for a in ROLS_SPLIT:\n",
    "        temp.append(make_lag_roll(a))\n",
    "    temp = pd.concat(temp, axis=1)\n",
    "    grid_df = pd.concat([grid_df, temp], axis=1)\n",
    "    del temp; gc.collect()\n",
    "    ###\n",
    "    \n",
    "    # fast multiprocessing version\n",
    "#     grid_df = pd.concat([grid_df, df_parallelize_run(make_lag_roll, ROLS_SPLIT)], axis=1)\n",
    "    ###\n",
    "    \n",
    "    for store_id in STORES:\n",
    "        for state_id in DEPTS:\n",
    "        \n",
    "            model_path = model_dir+'lgb_model_'+store_id+'_'+state_id+'_v'+str(VER)+'.bin'\n",
    "            if USE_AUX:\n",
    "                model_path = AUX_MODELS + model_path\n",
    "\n",
    "            estimator = pickle.load(open(model_path, 'rb'))\n",
    "\n",
    "            day_mask = base_test['d']==(END_TRAIN+PREDICT_DAY)\n",
    "            store_mask = base_test['store_id']==store_id\n",
    "            state_mask = base_test['dept_id']==state_id\n",
    "\n",
    "            mask = (day_mask)&(store_mask)&(state_mask)\n",
    "            base_test[TARGET][mask] = estimator.predict(grid_df[mask][MODEL_FEATURES])\n",
    "    \n",
    "    temp_df = base_test[day_mask][['id',TARGET]]\n",
    "    temp_df.columns = ['id','F'+str(PREDICT_DAY)]\n",
    "    if 'id' in list(all_preds):\n",
    "        all_preds = all_preds.merge(temp_df, on=['id'], how='left')\n",
    "    else:\n",
    "        all_preds = temp_df.copy()\n",
    "        \n",
    "    print('#'*10, ' %0.2f min round |' % ((time.time() - start_time) / 60),\n",
    "                  ' %0.2f min total |' % ((time.time() - main_time) / 60),\n",
    "                  ' %0.2f day sales |' % (temp_df['F'+str(PREDICT_DAY)].sum()))\n",
    "    del temp_df\n",
    "    \n",
    "all_preds = all_preds.reset_index(drop=True)\n",
    "all_preds"
   ]
  },
  {
   "cell_type": "code",
   "execution_count": 13,
   "metadata": {
    "ExecuteTime": {
     "end_time": "2024-04-09T09:36:27.269792Z",
     "start_time": "2024-04-09T09:36:25.557674Z"
    }
   },
   "outputs": [],
   "source": [
    "########################### Export\n",
    "#################################################################################\n",
    "submission = pd.read_csv(ORIGINAL+'sample_submission.csv')[['id']]\n",
    "submission = submission.merge(all_preds, on=['id'], how='left').fillna(0)\n",
    "submission.to_csv(submission_dir+'before_ensemble/submission_kaggle_recursive_store_dept.csv', index=False)"
   ]
  }
 ],
 "metadata": {
  "hide_input": false,
  "kernelspec": {
   "display_name": "Python 3",
   "language": "python",
   "name": "python3"
  },
  "language_info": {
   "codemirror_mode": {
    "name": "ipython",
    "version": 3
   },
   "file_extension": ".py",
   "mimetype": "text/x-python",
   "name": "python",
   "nbconvert_exporter": "python",
   "pygments_lexer": "ipython3",
   "version": "3.7.3"
  }
 },
 "nbformat": 4,
 "nbformat_minor": 4
}
