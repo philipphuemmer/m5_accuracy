{
 "cells": [
  {
   "cell_type": "markdown",
   "metadata": {},
   "source": [
    "## Please input your directory for the top level folder\n",
    "folder name : SUBMISSION MODEL"
   ]
  },
  {
   "cell_type": "code",
   "execution_count": 1,
   "metadata": {
    "ExecuteTime": {
     "end_time": "2024-04-08T21:10:23.283691Z",
     "start_time": "2024-04-08T21:10:23.261690Z"
    }
   },
   "outputs": [],
   "source": [
    "dir_ = 'E:/Seminararbeit/Code/A1/' # input only here"
   ]
  },
  {
   "cell_type": "markdown",
   "metadata": {},
   "source": [
    "#### setting other directory"
   ]
  },
  {
   "cell_type": "code",
   "execution_count": 2,
   "metadata": {
    "ExecuteTime": {
     "end_time": "2024-04-08T21:10:23.299689Z",
     "start_time": "2024-04-08T21:10:23.286691Z"
    }
   },
   "outputs": [],
   "source": [
    "raw_data_dir = dir_+'2. data/'\n",
    "processed_data_dir = dir_+'2. data/processed/'\n",
    "log_dir = dir_+'4. logs/'\n",
    "model_dir = dir_+'5. models/'\n",
    "submission_dir = dir_+'6. submissions/'"
   ]
  },
  {
   "cell_type": "code",
   "execution_count": 3,
   "metadata": {
    "ExecuteTime": {
     "end_time": "2024-04-08T21:10:23.315691Z",
     "start_time": "2024-04-08T21:10:23.301688Z"
    }
   },
   "outputs": [],
   "source": [
    "####################################################################################\n",
    "####################### 1-2. recursive model by store & cat ########################\n",
    "####################################################################################"
   ]
  },
  {
   "cell_type": "code",
   "execution_count": 4,
   "metadata": {
    "ExecuteTime": {
     "end_time": "2024-04-08T21:10:23.331692Z",
     "start_time": "2024-04-08T21:10:23.317688Z"
    }
   },
   "outputs": [],
   "source": [
    "ver, KKK = 'priv', 1"
   ]
  },
  {
   "cell_type": "code",
   "execution_count": 5,
   "metadata": {
    "ExecuteTime": {
     "end_time": "2024-04-08T21:10:23.347687Z",
     "start_time": "2024-04-08T21:10:23.333689Z"
    }
   },
   "outputs": [],
   "source": [
    "STORES = ['CA_1', 'CA_2', 'CA_3', 'CA_4', 'TX_1', 'TX_2', 'TX_3', 'WI_1', 'WI_2', 'WI_3']\n",
    "CATS = ['HOBBIES','HOUSEHOLD', 'FOODS']"
   ]
  },
  {
   "cell_type": "code",
   "execution_count": 6,
   "metadata": {
    "_cell_guid": "b1076dfc-b9ad-4769-8c92-a6c4dae69d19",
    "_uuid": "8f2839f25d086af736a60e9eeb907d3b93b6e0e5",
    "ExecuteTime": {
     "end_time": "2024-04-08T21:10:27.008876Z",
     "start_time": "2024-04-08T21:10:23.351690Z"
    }
   },
   "outputs": [],
   "source": [
    "# General imports\n",
    "import numpy as np\n",
    "import pandas as pd\n",
    "import os, sys, gc, time, warnings, pickle, psutil, random\n",
    "\n",
    "# custom imports\n",
    "from multiprocessing import Pool\n",
    "\n",
    "warnings.filterwarnings('ignore')"
   ]
  },
  {
   "cell_type": "code",
   "execution_count": 7,
   "metadata": {
    "ExecuteTime": {
     "end_time": "2024-04-08T21:10:27.024877Z",
     "start_time": "2024-04-08T21:10:27.009877Z"
    }
   },
   "outputs": [],
   "source": [
    "########################### Helpers\n",
    "#################################################################################\n",
    "## Seeder\n",
    "def seed_everything(seed=0):\n",
    "    random.seed(seed)\n",
    "    np.random.seed(seed)\n",
    "\n",
    "    \n",
    "## Multiprocess Runs\n",
    "def df_parallelize_run(func, t_split):\n",
    "    num_cores = np.min([N_CORES,len(t_split)])\n",
    "    pool = Pool(num_cores)\n",
    "    df = pd.concat(pool.map(func, t_split), axis=1)\n",
    "    pool.close()\n",
    "    pool.join()\n",
    "    return df"
   ]
  },
  {
   "cell_type": "code",
   "execution_count": 8,
   "metadata": {
    "ExecuteTime": {
     "end_time": "2024-04-08T21:10:27.040880Z",
     "start_time": "2024-04-08T21:10:27.025877Z"
    }
   },
   "outputs": [],
   "source": [
    "########################### Helper to load data by store ID\n",
    "#################################################################################\n",
    "# Read data\n",
    "def get_data_by_store(store, dept):\n",
    "    \n",
    "    # Read and contact basic feature\n",
    "    df = pd.concat([pd.read_pickle(BASE),\n",
    "                    pd.read_pickle(PRICE).iloc[:,2:],\n",
    "                    pd.read_pickle(CALENDAR).iloc[:,2:]],\n",
    "                    axis=1)\n",
    "    \n",
    "    df = df[df['d']>=START_TRAIN]\n",
    "    \n",
    "    df = df[(df['store_id']==store) & (df['cat_id']==dept)]\n",
    "\n",
    "    df2 = pd.read_pickle(MEAN_ENC)[mean_features]\n",
    "    df2 = df2[df2.index.isin(df.index)]\n",
    "    \n",
    "    df3 = pd.read_pickle(LAGS).iloc[:,3:]\n",
    "    df3 = df3[df3.index.isin(df.index)]\n",
    "    \n",
    "    df = pd.concat([df, df2], axis=1)\n",
    "    del df2\n",
    "    \n",
    "    df = pd.concat([df, df3], axis=1)\n",
    "    del df3\n",
    "    \n",
    "    features = [col for col in list(df) if col not in remove_features]\n",
    "    df = df[['id','d',TARGET]+features]\n",
    "    \n",
    "    df = df.reset_index(drop=True)\n",
    "    \n",
    "    return df, features\n",
    "\n",
    "# Recombine Test set after training\n",
    "def get_base_test():\n",
    "    base_test = pd.DataFrame()\n",
    "\n",
    "    for store_id in STORES:\n",
    "        for state_id in CATS:\n",
    "            temp_df = pd.read_pickle(processed_data_dir+'test_'+store_id+'_'+state_id+'.pkl')\n",
    "            temp_df['store_id'] = store_id\n",
    "            temp_df['cat_id'] = state_id\n",
    "            base_test = pd.concat([base_test, temp_df]).reset_index(drop=True)\n",
    "    \n",
    "    return base_test\n",
    "\n",
    "\n",
    "########################### Helper to make dynamic rolling lags\n",
    "#################################################################################\n",
    "def make_lag(LAG_DAY):\n",
    "    lag_df = base_test[['id','d',TARGET]]\n",
    "    col_name = 'sales_lag_'+str(LAG_DAY)\n",
    "    lag_df[col_name] = lag_df.groupby(['id'])[TARGET].transform(lambda x: x.shift(LAG_DAY)).astype(np.float16)\n",
    "    return lag_df[[col_name]]\n",
    "\n",
    "\n",
    "def make_lag_roll(LAG_DAY):\n",
    "    shift_day = LAG_DAY[0]\n",
    "    roll_wind = LAG_DAY[1]\n",
    "    lag_df = base_test[['id','d',TARGET]]\n",
    "    col_name = 'rolling_mean_tmp_'+str(shift_day)+'_'+str(roll_wind)\n",
    "    lag_df[col_name] = lag_df.groupby(['id'])[TARGET].transform(lambda x: x.shift(shift_day).rolling(roll_wind).mean())\n",
    "    return lag_df[[col_name]]"
   ]
  },
  {
   "cell_type": "code",
   "execution_count": 9,
   "metadata": {
    "ExecuteTime": {
     "end_time": "2024-04-08T21:10:28.247915Z",
     "start_time": "2024-04-08T21:10:27.041879Z"
    }
   },
   "outputs": [],
   "source": [
    "########################### Model params\n",
    "#################################################################################\n",
    "import lightgbm as lgb\n",
    "lgb_params = {\n",
    "                    'boosting_type': 'gbdt',\n",
    "                    'objective': 'tweedie',\n",
    "                    'tweedie_variance_power': 1.1,\n",
    "                    'metric': 'rmse',\n",
    "                    'subsample': 0.5,\n",
    "                    'subsample_freq': 1,\n",
    "                    'learning_rate': 0.015,\n",
    "                    'num_leaves': 2**8-1,\n",
    "                    'min_data_in_leaf': 2**8-1,\n",
    "                    'feature_fraction': 0.5,\n",
    "                    'max_bin': 100,\n",
    "                    'n_estimators': 3000,\n",
    "                    'boost_from_average': False,\n",
    "                    'verbose': -1\n",
    "                } "
   ]
  },
  {
   "cell_type": "code",
   "execution_count": 9,
   "metadata": {
    "ExecuteTime": {
     "end_time": "2024-04-08T21:10:28.263914Z",
     "start_time": "2024-04-08T21:10:28.248914Z"
    }
   },
   "outputs": [],
   "source": []
  },
  {
   "cell_type": "code",
   "execution_count": 10,
   "metadata": {
    "ExecuteTime": {
     "end_time": "2024-04-08T21:10:28.279915Z",
     "start_time": "2024-04-08T21:10:28.264915Z"
    }
   },
   "outputs": [],
   "source": [
    "########################### Vars\n",
    "#################################################################################\n",
    "VER = 1                          \n",
    "SEED = 42                        \n",
    "seed_everything(SEED)            \n",
    "lgb_params['seed'] = SEED        \n",
    "N_CORES = psutil.cpu_count()     \n",
    "\n",
    "\n",
    "#LIMITS and const\n",
    "TARGET      = 'sales'            \n",
    "START_TRAIN = 700                \n",
    "END_TRAIN   = 1941 - 28*KKK      \n",
    "P_HORIZON   = 28                 \n",
    "USE_AUX     = False             \n",
    "\n",
    "remove_features = ['id','cat_id', 'state_id','store_id',\n",
    "                   'date','wm_yr_wk','d',TARGET]\n",
    "mean_features   = ['enc_store_id_dept_id_mean','enc_store_id_dept_id_std',\n",
    "                   'enc_item_id_store_id_mean','enc_item_id_store_id_std'] \n",
    "\n",
    "ORIGINAL = raw_data_dir\n",
    "BASE     = processed_data_dir+'processedgrid_part_1.pkl'\n",
    "PRICE    = processed_data_dir+'processedgrid_part_2.pkl'\n",
    "CALENDAR = processed_data_dir+'processedgrid_part_3.pkl'\n",
    "LAGS     = processed_data_dir+'processedlags_df_28.pkl'\n",
    "MEAN_ENC = processed_data_dir+'processedmean_encoding_df.pkl'\n",
    "\n",
    "\n",
    "#SPLITS for lags creation\n",
    "SHIFT_DAY  = 28\n",
    "N_LAGS     = 15\n",
    "LAGS_SPLIT = [col for col in range(SHIFT_DAY,SHIFT_DAY+N_LAGS)]\n",
    "ROLS_SPLIT = []\n",
    "for i in [1,7,14]:\n",
    "    for j in [7,14,30,60]:\n",
    "        ROLS_SPLIT.append([i,j])"
   ]
  },
  {
   "cell_type": "code",
   "execution_count": 11,
   "metadata": {
    "ExecuteTime": {
     "end_time": "2024-04-08T21:12:45.004856Z",
     "start_time": "2024-04-08T21:10:28.281917Z"
    }
   },
   "outputs": [
    {
     "data": {
      "text/plain": "0"
     },
     "execution_count": 11,
     "metadata": {},
     "output_type": "execute_result"
    }
   ],
   "source": [
    "_, MODEL_FEATURES = get_data_by_store(STORES[-1], CATS[-1])\n",
    "del _; gc.collect()"
   ]
  },
  {
   "cell_type": "code",
   "execution_count": 12,
   "metadata": {
    "scrolled": true,
    "ExecuteTime": {
     "end_time": "2024-04-08T22:03:25.669018Z",
     "start_time": "2024-04-08T21:12:45.010858Z"
    }
   },
   "outputs": [
    {
     "name": "stdout",
     "output_type": "stream",
     "text": [
      "Predict | Day: 1\n",
      "##########  2.11 min round |  2.11 min total |  37362.33 day sales |\n",
      "Predict | Day: 2\n",
      "##########  1.76 min round |  3.87 min total |  35820.30 day sales |\n",
      "Predict | Day: 3\n",
      "##########  1.75 min round |  5.62 min total |  35287.56 day sales |\n",
      "Predict | Day: 4\n",
      "##########  1.75 min round |  7.38 min total |  35864.35 day sales |\n",
      "Predict | Day: 5\n",
      "##########  1.76 min round |  9.13 min total |  42346.81 day sales |\n",
      "Predict | Day: 6\n",
      "##########  1.76 min round |  10.89 min total |  51529.00 day sales |\n",
      "Predict | Day: 7\n",
      "##########  1.76 min round |  12.65 min total |  54663.97 day sales |\n",
      "Predict | Day: 8\n",
      "##########  1.76 min round |  14.41 min total |  44911.33 day sales |\n",
      "Predict | Day: 9\n",
      "##########  1.76 min round |  16.16 min total |  45049.70 day sales |\n",
      "Predict | Day: 10\n",
      "##########  1.76 min round |  17.92 min total |  39771.12 day sales |\n",
      "Predict | Day: 11\n",
      "##########  1.76 min round |  19.68 min total |  41129.39 day sales |\n",
      "Predict | Day: 12\n",
      "##########  1.75 min round |  21.43 min total |  45975.64 day sales |\n",
      "Predict | Day: 13\n",
      "##########  1.75 min round |  23.19 min total |  54931.80 day sales |\n",
      "Predict | Day: 14\n",
      "##########  1.76 min round |  24.95 min total |  46566.66 day sales |\n",
      "Predict | Day: 15\n",
      "##########  1.77 min round |  26.72 min total |  46053.87 day sales |\n",
      "Predict | Day: 16\n",
      "##########  1.79 min round |  28.50 min total |  39973.21 day sales |\n",
      "Predict | Day: 17\n",
      "##########  1.79 min round |  30.30 min total |  41471.41 day sales |\n",
      "Predict | Day: 18\n",
      "##########  1.78 min round |  32.08 min total |  41745.93 day sales |\n",
      "Predict | Day: 19\n",
      "##########  1.83 min round |  33.91 min total |  44564.63 day sales |\n",
      "Predict | Day: 20\n",
      "##########  1.78 min round |  35.69 min total |  55254.85 day sales |\n",
      "Predict | Day: 21\n",
      "##########  1.78 min round |  37.47 min total |  57917.25 day sales |\n",
      "Predict | Day: 22\n",
      "##########  1.78 min round |  39.25 min total |  42360.79 day sales |\n",
      "Predict | Day: 23\n",
      "##########  1.79 min round |  41.04 min total |  38624.00 day sales |\n",
      "Predict | Day: 24\n",
      "##########  1.80 min round |  42.84 min total |  37709.28 day sales |\n",
      "Predict | Day: 25\n",
      "##########  1.81 min round |  44.64 min total |  37799.56 day sales |\n",
      "Predict | Day: 26\n",
      "##########  1.98 min round |  46.62 min total |  42554.21 day sales |\n",
      "Predict | Day: 27\n",
      "##########  1.92 min round |  48.54 min total |  52065.02 day sales |\n",
      "Predict | Day: 28\n",
      "##########  1.93 min round |  50.47 min total |  52773.42 day sales |\n"
     ]
    },
    {
     "data": {
      "text/plain": "                                  id        F1        F2        F3        F4  \\\n0      HOBBIES_1_001_CA_1_evaluation  0.870932  0.764649  0.705301  0.771919   \n1      HOBBIES_1_002_CA_1_evaluation  0.156725  0.179041  0.139369  0.157679   \n2      HOBBIES_1_003_CA_1_evaluation  0.405382  0.400993  0.511306  0.489348   \n3      HOBBIES_1_004_CA_1_evaluation  1.444013  1.247191  1.457564  1.482993   \n4      HOBBIES_1_005_CA_1_evaluation  0.930047  0.880204  0.932612  1.169816   \n...                              ...       ...       ...       ...       ...   \n30485    FOODS_3_823_WI_3_evaluation  0.378075  0.363264  0.378961  0.369856   \n30486    FOODS_3_824_WI_3_evaluation  0.319542  0.302139  0.293962  0.284748   \n30487    FOODS_3_825_WI_3_evaluation  0.601561  0.515258  0.497002  0.494971   \n30488    FOODS_3_826_WI_3_evaluation  1.090637  1.115649  0.936578  1.003429   \n30489    FOODS_3_827_WI_3_evaluation  0.208509  1.073512  1.011300  1.471792   \n\n             F5        F6        F7        F8        F9  ...       F19  \\\n0      0.892273  1.495131  2.305302  0.844798  0.808506  ...  0.890030   \n1      0.171849  0.218373  0.205946  0.198877  0.223985  ...  0.225279   \n2      0.676125  1.198966  0.786767  0.422763  0.426771  ...  0.662712   \n3      1.992003  1.999145  5.015667  1.795505  1.303647  ...  1.716196   \n4      1.061837  1.087882  1.938193  1.017873  1.115508  ...  1.218561   \n...         ...       ...       ...       ...       ...  ...       ...   \n30485  0.456488  0.442834  0.514963  0.537534  0.563089  ...  0.583207   \n30486  0.287117  0.285719  0.317155  0.419328  0.412290  ...  0.263523   \n30487  0.615638  0.819971  0.934800  1.174792  1.147953  ...  1.000693   \n30488  1.118560  1.358563  1.102913  1.292304  1.319514  ...  0.990432   \n30489  1.906078  2.497041  2.037864  1.679366  1.456778  ...  1.691555   \n\n            F20       F21       F22       F23       F24       F25       F26  \\\n0      1.335815  0.969617  0.856054  0.736404  0.755669  0.851076  1.120754   \n1      0.276965  0.301717  0.216404  0.215209  0.225649  0.250528  0.243223   \n2      0.847849  0.868454  0.489339  0.482109  0.502099  0.549881  0.810057   \n3      2.209101  3.038259  1.705341  1.328901  1.249291  1.264975  1.533475   \n4      1.698868  1.563112  1.012973  0.957349  0.974835  0.972285  1.238403   \n...         ...       ...       ...       ...       ...       ...       ...   \n30485  0.697551  0.821740  0.564087  0.484115  0.458311  0.453009  0.509889   \n30486  0.345654  0.418916  0.294155  0.261761  0.248264  0.228003  0.217350   \n30487  1.335199  1.609247  1.086334  0.767945  0.692199  0.640633  0.738843   \n30488  1.401226  1.442792  1.168127  1.075675  0.947878  1.005170  1.032993   \n30489  2.211519  2.075674  1.644839  1.648369  1.447339  1.442221  1.768958   \n\n            F27       F28  \n0      1.275398  1.115024  \n1      0.337103  0.306588  \n2      0.972190  0.877789  \n3      3.448009  3.744222  \n4      1.543711  1.607362  \n...         ...       ...  \n30485  0.617922  0.704304  \n30486  0.293158  0.316587  \n30487  0.847282  0.820046  \n30488  1.286514  1.408132  \n30489  2.258476  2.162916  \n\n[30490 rows x 29 columns]",
      "text/html": "<div>\n<style scoped>\n    .dataframe tbody tr th:only-of-type {\n        vertical-align: middle;\n    }\n\n    .dataframe tbody tr th {\n        vertical-align: top;\n    }\n\n    .dataframe thead th {\n        text-align: right;\n    }\n</style>\n<table border=\"1\" class=\"dataframe\">\n  <thead>\n    <tr style=\"text-align: right;\">\n      <th></th>\n      <th>id</th>\n      <th>F1</th>\n      <th>F2</th>\n      <th>F3</th>\n      <th>F4</th>\n      <th>F5</th>\n      <th>F6</th>\n      <th>F7</th>\n      <th>F8</th>\n      <th>F9</th>\n      <th>...</th>\n      <th>F19</th>\n      <th>F20</th>\n      <th>F21</th>\n      <th>F22</th>\n      <th>F23</th>\n      <th>F24</th>\n      <th>F25</th>\n      <th>F26</th>\n      <th>F27</th>\n      <th>F28</th>\n    </tr>\n  </thead>\n  <tbody>\n    <tr>\n      <th>0</th>\n      <td>HOBBIES_1_001_CA_1_evaluation</td>\n      <td>0.870932</td>\n      <td>0.764649</td>\n      <td>0.705301</td>\n      <td>0.771919</td>\n      <td>0.892273</td>\n      <td>1.495131</td>\n      <td>2.305302</td>\n      <td>0.844798</td>\n      <td>0.808506</td>\n      <td>...</td>\n      <td>0.890030</td>\n      <td>1.335815</td>\n      <td>0.969617</td>\n      <td>0.856054</td>\n      <td>0.736404</td>\n      <td>0.755669</td>\n      <td>0.851076</td>\n      <td>1.120754</td>\n      <td>1.275398</td>\n      <td>1.115024</td>\n    </tr>\n    <tr>\n      <th>1</th>\n      <td>HOBBIES_1_002_CA_1_evaluation</td>\n      <td>0.156725</td>\n      <td>0.179041</td>\n      <td>0.139369</td>\n      <td>0.157679</td>\n      <td>0.171849</td>\n      <td>0.218373</td>\n      <td>0.205946</td>\n      <td>0.198877</td>\n      <td>0.223985</td>\n      <td>...</td>\n      <td>0.225279</td>\n      <td>0.276965</td>\n      <td>0.301717</td>\n      <td>0.216404</td>\n      <td>0.215209</td>\n      <td>0.225649</td>\n      <td>0.250528</td>\n      <td>0.243223</td>\n      <td>0.337103</td>\n      <td>0.306588</td>\n    </tr>\n    <tr>\n      <th>2</th>\n      <td>HOBBIES_1_003_CA_1_evaluation</td>\n      <td>0.405382</td>\n      <td>0.400993</td>\n      <td>0.511306</td>\n      <td>0.489348</td>\n      <td>0.676125</td>\n      <td>1.198966</td>\n      <td>0.786767</td>\n      <td>0.422763</td>\n      <td>0.426771</td>\n      <td>...</td>\n      <td>0.662712</td>\n      <td>0.847849</td>\n      <td>0.868454</td>\n      <td>0.489339</td>\n      <td>0.482109</td>\n      <td>0.502099</td>\n      <td>0.549881</td>\n      <td>0.810057</td>\n      <td>0.972190</td>\n      <td>0.877789</td>\n    </tr>\n    <tr>\n      <th>3</th>\n      <td>HOBBIES_1_004_CA_1_evaluation</td>\n      <td>1.444013</td>\n      <td>1.247191</td>\n      <td>1.457564</td>\n      <td>1.482993</td>\n      <td>1.992003</td>\n      <td>1.999145</td>\n      <td>5.015667</td>\n      <td>1.795505</td>\n      <td>1.303647</td>\n      <td>...</td>\n      <td>1.716196</td>\n      <td>2.209101</td>\n      <td>3.038259</td>\n      <td>1.705341</td>\n      <td>1.328901</td>\n      <td>1.249291</td>\n      <td>1.264975</td>\n      <td>1.533475</td>\n      <td>3.448009</td>\n      <td>3.744222</td>\n    </tr>\n    <tr>\n      <th>4</th>\n      <td>HOBBIES_1_005_CA_1_evaluation</td>\n      <td>0.930047</td>\n      <td>0.880204</td>\n      <td>0.932612</td>\n      <td>1.169816</td>\n      <td>1.061837</td>\n      <td>1.087882</td>\n      <td>1.938193</td>\n      <td>1.017873</td>\n      <td>1.115508</td>\n      <td>...</td>\n      <td>1.218561</td>\n      <td>1.698868</td>\n      <td>1.563112</td>\n      <td>1.012973</td>\n      <td>0.957349</td>\n      <td>0.974835</td>\n      <td>0.972285</td>\n      <td>1.238403</td>\n      <td>1.543711</td>\n      <td>1.607362</td>\n    </tr>\n    <tr>\n      <th>...</th>\n      <td>...</td>\n      <td>...</td>\n      <td>...</td>\n      <td>...</td>\n      <td>...</td>\n      <td>...</td>\n      <td>...</td>\n      <td>...</td>\n      <td>...</td>\n      <td>...</td>\n      <td>...</td>\n      <td>...</td>\n      <td>...</td>\n      <td>...</td>\n      <td>...</td>\n      <td>...</td>\n      <td>...</td>\n      <td>...</td>\n      <td>...</td>\n      <td>...</td>\n      <td>...</td>\n    </tr>\n    <tr>\n      <th>30485</th>\n      <td>FOODS_3_823_WI_3_evaluation</td>\n      <td>0.378075</td>\n      <td>0.363264</td>\n      <td>0.378961</td>\n      <td>0.369856</td>\n      <td>0.456488</td>\n      <td>0.442834</td>\n      <td>0.514963</td>\n      <td>0.537534</td>\n      <td>0.563089</td>\n      <td>...</td>\n      <td>0.583207</td>\n      <td>0.697551</td>\n      <td>0.821740</td>\n      <td>0.564087</td>\n      <td>0.484115</td>\n      <td>0.458311</td>\n      <td>0.453009</td>\n      <td>0.509889</td>\n      <td>0.617922</td>\n      <td>0.704304</td>\n    </tr>\n    <tr>\n      <th>30486</th>\n      <td>FOODS_3_824_WI_3_evaluation</td>\n      <td>0.319542</td>\n      <td>0.302139</td>\n      <td>0.293962</td>\n      <td>0.284748</td>\n      <td>0.287117</td>\n      <td>0.285719</td>\n      <td>0.317155</td>\n      <td>0.419328</td>\n      <td>0.412290</td>\n      <td>...</td>\n      <td>0.263523</td>\n      <td>0.345654</td>\n      <td>0.418916</td>\n      <td>0.294155</td>\n      <td>0.261761</td>\n      <td>0.248264</td>\n      <td>0.228003</td>\n      <td>0.217350</td>\n      <td>0.293158</td>\n      <td>0.316587</td>\n    </tr>\n    <tr>\n      <th>30487</th>\n      <td>FOODS_3_825_WI_3_evaluation</td>\n      <td>0.601561</td>\n      <td>0.515258</td>\n      <td>0.497002</td>\n      <td>0.494971</td>\n      <td>0.615638</td>\n      <td>0.819971</td>\n      <td>0.934800</td>\n      <td>1.174792</td>\n      <td>1.147953</td>\n      <td>...</td>\n      <td>1.000693</td>\n      <td>1.335199</td>\n      <td>1.609247</td>\n      <td>1.086334</td>\n      <td>0.767945</td>\n      <td>0.692199</td>\n      <td>0.640633</td>\n      <td>0.738843</td>\n      <td>0.847282</td>\n      <td>0.820046</td>\n    </tr>\n    <tr>\n      <th>30488</th>\n      <td>FOODS_3_826_WI_3_evaluation</td>\n      <td>1.090637</td>\n      <td>1.115649</td>\n      <td>0.936578</td>\n      <td>1.003429</td>\n      <td>1.118560</td>\n      <td>1.358563</td>\n      <td>1.102913</td>\n      <td>1.292304</td>\n      <td>1.319514</td>\n      <td>...</td>\n      <td>0.990432</td>\n      <td>1.401226</td>\n      <td>1.442792</td>\n      <td>1.168127</td>\n      <td>1.075675</td>\n      <td>0.947878</td>\n      <td>1.005170</td>\n      <td>1.032993</td>\n      <td>1.286514</td>\n      <td>1.408132</td>\n    </tr>\n    <tr>\n      <th>30489</th>\n      <td>FOODS_3_827_WI_3_evaluation</td>\n      <td>0.208509</td>\n      <td>1.073512</td>\n      <td>1.011300</td>\n      <td>1.471792</td>\n      <td>1.906078</td>\n      <td>2.497041</td>\n      <td>2.037864</td>\n      <td>1.679366</td>\n      <td>1.456778</td>\n      <td>...</td>\n      <td>1.691555</td>\n      <td>2.211519</td>\n      <td>2.075674</td>\n      <td>1.644839</td>\n      <td>1.648369</td>\n      <td>1.447339</td>\n      <td>1.442221</td>\n      <td>1.768958</td>\n      <td>2.258476</td>\n      <td>2.162916</td>\n    </tr>\n  </tbody>\n</table>\n<p>30490 rows × 29 columns</p>\n</div>"
     },
     "execution_count": 12,
     "metadata": {},
     "output_type": "execute_result"
    }
   ],
   "source": [
    "########################### Predict\n",
    "#################################################################################\n",
    "\n",
    "all_preds = pd.DataFrame()\n",
    "\n",
    "# Join back the Test dataset with \n",
    "# a small part of the training data \n",
    "# to make recursive features\n",
    "base_test = get_base_test()\n",
    "\n",
    "main_time = time.time()\n",
    "\n",
    "for PREDICT_DAY in range(1,29):    \n",
    "    print('Predict | Day:', PREDICT_DAY)\n",
    "    start_time = time.time()\n",
    "\n",
    "    grid_df = base_test.copy()\n",
    "    \n",
    "    # slow for loop version\n",
    "    temp = []\n",
    "    for a in ROLS_SPLIT:\n",
    "        temp.append(make_lag_roll(a))\n",
    "    temp = pd.concat(temp, axis=1)\n",
    "    grid_df = pd.concat([grid_df, temp], axis=1)\n",
    "    del temp; gc.collect()\n",
    "    ###\n",
    "    \n",
    "    # fast multiprocessing version\n",
    "#     grid_df = pd.concat([grid_df, df_parallelize_run(make_lag_roll, ROLS_SPLIT)], axis=1)\n",
    "    ###\n",
    "        \n",
    "    for store_id in STORES:\n",
    "        for state_id in CATS:\n",
    "        \n",
    "            model_path = model_dir+'lgb_model_'+store_id+'_'+state_id+'_v'+str(VER)+'.bin'\n",
    "            if USE_AUX:\n",
    "                model_path = AUX_MODELS + model_path\n",
    "\n",
    "            estimator = pickle.load(open(model_path, 'rb'))\n",
    "\n",
    "            day_mask = base_test['d']==(END_TRAIN+PREDICT_DAY)\n",
    "            store_mask = base_test['store_id']==store_id\n",
    "            state_mask = base_test['cat_id']==state_id\n",
    "\n",
    "            mask = (day_mask)&(store_mask)&(state_mask)\n",
    "            base_test[TARGET][mask] = estimator.predict(grid_df[mask][MODEL_FEATURES])\n",
    "    \n",
    "    temp_df = base_test[day_mask][['id',TARGET]]\n",
    "    temp_df.columns = ['id','F'+str(PREDICT_DAY)]\n",
    "    if 'id' in list(all_preds):\n",
    "        all_preds = all_preds.merge(temp_df, on=['id'], how='left')\n",
    "    else:\n",
    "        all_preds = temp_df.copy()\n",
    "        \n",
    "    print('#'*10, ' %0.2f min round |' % ((time.time() - start_time) / 60),\n",
    "                  ' %0.2f min total |' % ((time.time() - main_time) / 60),\n",
    "                  ' %0.2f day sales |' % (temp_df['F'+str(PREDICT_DAY)].sum()))\n",
    "    del temp_df\n",
    "    \n",
    "all_preds = all_preds.reset_index(drop=True)\n",
    "all_preds"
   ]
  },
  {
   "cell_type": "code",
   "execution_count": 13,
   "metadata": {
    "ExecuteTime": {
     "end_time": "2024-04-08T22:03:27.356573Z",
     "start_time": "2024-04-08T22:03:25.671017Z"
    }
   },
   "outputs": [],
   "source": [
    "########################### Export\n",
    "#################################################################################\n",
    "submission = pd.read_csv(ORIGINAL+'sample_submission.csv')[['id']]\n",
    "submission = submission.merge(all_preds, on=['id'], how='left').fillna(0)\n",
    "submission.to_csv(submission_dir+'before_ensemble/submission_kaggle_recursive_store_cat.csv', index=False)"
   ]
  }
 ],
 "metadata": {
  "hide_input": false,
  "kernelspec": {
   "display_name": "Python 3",
   "language": "python",
   "name": "python3"
  },
  "language_info": {
   "codemirror_mode": {
    "name": "ipython",
    "version": 3
   },
   "file_extension": ".py",
   "mimetype": "text/x-python",
   "name": "python",
   "nbconvert_exporter": "python",
   "pygments_lexer": "ipython3",
   "version": "3.7.3"
  }
 },
 "nbformat": 4,
 "nbformat_minor": 4
}
