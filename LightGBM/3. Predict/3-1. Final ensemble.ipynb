{
 "cells": [
  {
   "cell_type": "markdown",
   "metadata": {},
   "source": [
    "## Please input your directory for the top level folder\n",
    "folder name : SUBMISSION MODEL"
   ]
  },
  {
   "cell_type": "code",
   "execution_count": 1,
   "metadata": {
    "ExecuteTime": {
     "end_time": "2024-04-09T20:27:28.938296Z",
     "start_time": "2024-04-09T20:27:28.917294Z"
    }
   },
   "outputs": [],
   "source": [
    "dir_ = 'E:/Seminararbeit/Code/A1/' # input only here"
   ]
  },
  {
   "cell_type": "markdown",
   "metadata": {},
   "source": [
    "#### setting other directory"
   ]
  },
  {
   "cell_type": "code",
   "execution_count": 2,
   "metadata": {
    "ExecuteTime": {
     "end_time": "2024-04-09T20:27:28.953295Z",
     "start_time": "2024-04-09T20:27:28.940293Z"
    }
   },
   "outputs": [],
   "source": [
    "raw_data_dir = dir_+'2. data/'\n",
    "processed_data_dir = dir_+'2. data/processed/'\n",
    "log_dir = dir_+'4. logs/'\n",
    "model_dir = dir_+'5. models/'\n",
    "submission_dir = dir_+'6. submissions/'"
   ]
  },
  {
   "cell_type": "code",
   "execution_count": 3,
   "metadata": {
    "ExecuteTime": {
     "end_time": "2024-04-09T20:27:33.571390Z",
     "start_time": "2024-04-09T20:27:28.955294Z"
    }
   },
   "outputs": [],
   "source": [
    "import pandas as pd"
   ]
  },
  {
   "cell_type": "code",
   "execution_count": 4,
   "metadata": {
    "ExecuteTime": {
     "end_time": "2024-04-09T20:27:33.682392Z",
     "start_time": "2024-04-09T20:27:33.572392Z"
    }
   },
   "outputs": [],
   "source": [
    "submission = pd.read_csv(raw_data_dir+'sample_submission.csv')\n",
    "ids = pd.DataFrame({'id':submission.iloc[30490:]['id']})"
   ]
  },
  {
   "cell_type": "code",
   "execution_count": 5,
   "metadata": {
    "ExecuteTime": {
     "end_time": "2024-04-09T20:27:36.627993Z",
     "start_time": "2024-04-09T20:27:33.684390Z"
    }
   },
   "outputs": [],
   "source": [
    "sub1= pd.read_csv(submission_dir+'before_ensemble/submission_kaggle_recursive_store.csv')\n",
    "sub2= pd.read_csv(submission_dir+'before_ensemble/submission_kaggle_recursive_store_cat.csv')\n",
    "sub3= pd.read_csv(submission_dir+'before_ensemble/submission_kaggle_recursive_store_dept.csv')\n",
    "\n",
    "sub4= pd.read_csv(submission_dir+'before_ensemble/submission_kaggle_nonrecursive_store.csv')\n",
    "sub5= pd.read_csv(submission_dir+'before_ensemble/submission_kaggle_nonrecursive_store_cat.csv')\n",
    "sub6= pd.read_csv(submission_dir+'before_ensemble/submission_kaggle_nonrecursive_store_dept.csv')"
   ]
  },
  {
   "cell_type": "code",
   "execution_count": 6,
   "metadata": {
    "ExecuteTime": {
     "end_time": "2024-04-09T20:27:36.781995Z",
     "start_time": "2024-04-09T20:27:36.629992Z"
    }
   },
   "outputs": [],
   "source": [
    "sub1 = ids.merge(sub1, on='id', how='left').set_index('id')\n",
    "sub2 = ids.merge(sub2, on='id', how='left').set_index('id')\n",
    "sub3 = ids.merge(sub3, on='id', how='left').set_index('id')\n",
    "\n",
    "sub4 = ids.merge(sub4, on='id', how='left').set_index('id')\n",
    "sub5 = ids.merge(sub5, on='id', how='left').set_index('id')\n",
    "sub6 = ids.merge(sub6, on='id', how='left').set_index('id')"
   ]
  },
  {
   "cell_type": "code",
   "execution_count": 7,
   "metadata": {
    "ExecuteTime": {
     "end_time": "2024-04-09T20:27:36.986485Z",
     "start_time": "2024-04-09T20:27:36.783993Z"
    }
   },
   "outputs": [],
   "source": [
    "final_sub = (sub1 + sub2 + sub3 + sub4 + sub5 + sub6 )/6"
   ]
  },
  {
   "cell_type": "code",
   "execution_count": 25,
   "metadata": {
    "ExecuteTime": {
     "end_time": "2024-04-09T21:21:53.699415Z",
     "start_time": "2024-04-09T21:21:52.575832Z"
    }
   },
   "outputs": [
    {
     "name": "stdout",
     "output_type": "stream",
     "text": [
      "Index(['HOBBIES_1_001_CA_1_validation', 'HOBBIES_1_002_CA_1_validation',\n",
      "       'HOBBIES_1_003_CA_1_validation', 'HOBBIES_1_004_CA_1_validation',\n",
      "       'HOBBIES_1_005_CA_1_validation', 'HOBBIES_1_006_CA_1_validation',\n",
      "       'HOBBIES_1_007_CA_1_validation', 'HOBBIES_1_008_CA_1_validation',\n",
      "       'HOBBIES_1_009_CA_1_validation', 'HOBBIES_1_010_CA_1_validation',\n",
      "       ...\n",
      "       'FOODS_3_818_WI_3_validation', 'FOODS_3_819_WI_3_validation',\n",
      "       'FOODS_3_820_WI_3_validation', 'FOODS_3_821_WI_3_validation',\n",
      "       'FOODS_3_822_WI_3_validation', 'FOODS_3_823_WI_3_validation',\n",
      "       'FOODS_3_824_WI_3_validation', 'FOODS_3_825_WI_3_validation',\n",
      "       'FOODS_3_826_WI_3_validation', 'FOODS_3_827_WI_3_validation'],\n",
      "      dtype='object', name='id', length=30490)\n"
     ]
    }
   ],
   "source": [
    "print(final_sub.index.str.replace('evaluation','validation', regex=True))\n",
    "#for index, row in final_sub.iterrows():\n",
    "    #print(index)\n",
    "final_sub.index = final_sub.index.str.replace('evaluation','validation', regex=True)\n",
    "\n",
    "final_sub.to_csv(submission_dir+'submission_final.csv')"
   ]
  },
  {
   "cell_type": "code",
   "execution_count": 24,
   "metadata": {
    "ExecuteTime": {
     "end_time": "2024-04-09T21:21:23.740900Z",
     "start_time": "2024-04-09T21:21:23.713900Z"
    }
   },
   "outputs": [
    {
     "data": {
      "text/plain": "                                     F1        F2        F3        F4  \\\nid                                                                      \nHOBBIES_1_001_CA_1_validation  1.211954  1.144268  1.098276  1.143578   \nHOBBIES_1_002_CA_1_validation  0.310134  0.297945  0.284217  0.280771   \nHOBBIES_1_003_CA_1_validation  0.636683  0.615253  0.690593  0.699469   \nHOBBIES_1_004_CA_1_validation  2.269777  1.896678  2.006264  2.178946   \nHOBBIES_1_005_CA_1_validation  1.434355  1.357554  1.377943  1.564288   \n...                                 ...       ...       ...       ...   \nFOODS_3_823_WI_3_validation    0.492675  0.468403  0.455863  0.486331   \nFOODS_3_824_WI_3_validation    0.370379  0.362046  0.362660  0.353872   \nFOODS_3_825_WI_3_validation    0.944911  0.790598  0.756904  0.730590   \nFOODS_3_826_WI_3_validation    1.640884  1.623712  1.456660  1.411846   \nFOODS_3_827_WI_3_validation    1.854222  2.270609  2.147413  2.281251   \n\n                                     F5        F6        F7        F8  \\\nid                                                                      \nHOBBIES_1_001_CA_1_validation  1.348944  1.957630  2.475040  1.219769   \nHOBBIES_1_002_CA_1_validation  0.324865  0.401867  0.380774  0.335311   \nHOBBIES_1_003_CA_1_validation  0.947129  1.393900  1.101900  0.735885   \nHOBBIES_1_004_CA_1_validation  3.122258  3.516603  6.376700  2.706575   \nHOBBIES_1_005_CA_1_validation  1.653915  1.851529  2.463148  1.450651   \n...                                 ...       ...       ...       ...   \nFOODS_3_823_WI_3_validation    0.573428  0.613145  0.683402  0.618166   \nFOODS_3_824_WI_3_validation    0.353439  0.435926  0.476093  0.541121   \nFOODS_3_825_WI_3_validation    0.870831  1.191074  1.287520  1.371480   \nFOODS_3_826_WI_3_validation    1.545207  1.959176  1.706732  1.786948   \nFOODS_3_827_WI_3_validation    2.644700  3.279207  2.877279  2.817101   \n\n                                     F9       F10  ...       F19       F20  \\\nid                                                 ...                       \nHOBBIES_1_001_CA_1_validation  1.203634  1.309380  ...  1.338108  1.924059   \nHOBBIES_1_002_CA_1_validation  0.322293  0.328420  ...  0.346263  0.447815   \nHOBBIES_1_003_CA_1_validation  0.638420  0.627676  ...  0.934068  1.128587   \nHOBBIES_1_004_CA_1_validation  1.981158  1.671011  ...  2.594446  3.433750   \nHOBBIES_1_005_CA_1_validation  1.555874  1.586705  ...  1.666913  2.482242   \n...                                 ...       ...  ...       ...       ...   \nFOODS_3_823_WI_3_validation    0.648188  0.553734  ...  0.831843  1.011858   \nFOODS_3_824_WI_3_validation    0.589753  0.471037  ...  0.409066  0.565272   \nFOODS_3_825_WI_3_validation    1.306447  1.061000  ...  1.343291  1.842612   \nFOODS_3_826_WI_3_validation    1.782756  1.405946  ...  1.453397  1.982472   \nFOODS_3_827_WI_3_validation    2.581803  1.993666  ...  2.407485  3.040571   \n\n                                    F21       F22       F23       F24  \\\nid                                                                      \nHOBBIES_1_001_CA_1_validation  1.597014  1.297953  1.144180  1.155264   \nHOBBIES_1_002_CA_1_validation  0.460142  0.348503  0.348938  0.352715   \nHOBBIES_1_003_CA_1_validation  1.219441  0.695716  0.627451  0.688186   \nHOBBIES_1_004_CA_1_validation  4.380445  2.508877  1.975897  1.956410   \nHOBBIES_1_005_CA_1_validation  2.345882  1.559595  1.447221  1.533209   \n...                                 ...       ...       ...       ...   \nFOODS_3_823_WI_3_validation    1.180761  0.785358  0.718240  0.711875   \nFOODS_3_824_WI_3_validation    0.632221  0.421226  0.402811  0.405068   \nFOODS_3_825_WI_3_validation    2.107142  1.503622  1.235885  1.221307   \nFOODS_3_826_WI_3_validation    2.079446  1.699670  1.882297  1.698988   \nFOODS_3_827_WI_3_validation    2.886277  2.536843  2.688095  2.346628   \n\n                                    F25       F26       F27       F28  \nid                                                                     \nHOBBIES_1_001_CA_1_validation  1.268309  1.556920  1.786840  1.655589  \nHOBBIES_1_002_CA_1_validation  0.358854  0.382138  0.478111  0.420419  \nHOBBIES_1_003_CA_1_validation  0.746180  1.045502  1.159930  1.105174  \nHOBBIES_1_004_CA_1_validation  1.980463  2.470356  4.523594  5.130705  \nHOBBIES_1_005_CA_1_validation  1.458662  1.786455  2.273549  2.100963  \n...                                 ...       ...       ...       ...  \nFOODS_3_823_WI_3_validation    0.661516  0.710622  0.843313  0.992907  \nFOODS_3_824_WI_3_validation    0.360103  0.339664  0.460004  0.465844  \nFOODS_3_825_WI_3_validation    0.974325  1.058810  1.260458  1.250518  \nFOODS_3_826_WI_3_validation    1.554018  1.702809  1.940990  2.056835  \nFOODS_3_827_WI_3_validation    2.245263  2.606373  3.053586  2.952713  \n\n[30490 rows x 28 columns]",
      "text/html": "<div>\n<style scoped>\n    .dataframe tbody tr th:only-of-type {\n        vertical-align: middle;\n    }\n\n    .dataframe tbody tr th {\n        vertical-align: top;\n    }\n\n    .dataframe thead th {\n        text-align: right;\n    }\n</style>\n<table border=\"1\" class=\"dataframe\">\n  <thead>\n    <tr style=\"text-align: right;\">\n      <th></th>\n      <th>F1</th>\n      <th>F2</th>\n      <th>F3</th>\n      <th>F4</th>\n      <th>F5</th>\n      <th>F6</th>\n      <th>F7</th>\n      <th>F8</th>\n      <th>F9</th>\n      <th>F10</th>\n      <th>...</th>\n      <th>F19</th>\n      <th>F20</th>\n      <th>F21</th>\n      <th>F22</th>\n      <th>F23</th>\n      <th>F24</th>\n      <th>F25</th>\n      <th>F26</th>\n      <th>F27</th>\n      <th>F28</th>\n    </tr>\n    <tr>\n      <th>id</th>\n      <th></th>\n      <th></th>\n      <th></th>\n      <th></th>\n      <th></th>\n      <th></th>\n      <th></th>\n      <th></th>\n      <th></th>\n      <th></th>\n      <th></th>\n      <th></th>\n      <th></th>\n      <th></th>\n      <th></th>\n      <th></th>\n      <th></th>\n      <th></th>\n      <th></th>\n      <th></th>\n      <th></th>\n    </tr>\n  </thead>\n  <tbody>\n    <tr>\n      <th>HOBBIES_1_001_CA_1_validation</th>\n      <td>1.211954</td>\n      <td>1.144268</td>\n      <td>1.098276</td>\n      <td>1.143578</td>\n      <td>1.348944</td>\n      <td>1.957630</td>\n      <td>2.475040</td>\n      <td>1.219769</td>\n      <td>1.203634</td>\n      <td>1.309380</td>\n      <td>...</td>\n      <td>1.338108</td>\n      <td>1.924059</td>\n      <td>1.597014</td>\n      <td>1.297953</td>\n      <td>1.144180</td>\n      <td>1.155264</td>\n      <td>1.268309</td>\n      <td>1.556920</td>\n      <td>1.786840</td>\n      <td>1.655589</td>\n    </tr>\n    <tr>\n      <th>HOBBIES_1_002_CA_1_validation</th>\n      <td>0.310134</td>\n      <td>0.297945</td>\n      <td>0.284217</td>\n      <td>0.280771</td>\n      <td>0.324865</td>\n      <td>0.401867</td>\n      <td>0.380774</td>\n      <td>0.335311</td>\n      <td>0.322293</td>\n      <td>0.328420</td>\n      <td>...</td>\n      <td>0.346263</td>\n      <td>0.447815</td>\n      <td>0.460142</td>\n      <td>0.348503</td>\n      <td>0.348938</td>\n      <td>0.352715</td>\n      <td>0.358854</td>\n      <td>0.382138</td>\n      <td>0.478111</td>\n      <td>0.420419</td>\n    </tr>\n    <tr>\n      <th>HOBBIES_1_003_CA_1_validation</th>\n      <td>0.636683</td>\n      <td>0.615253</td>\n      <td>0.690593</td>\n      <td>0.699469</td>\n      <td>0.947129</td>\n      <td>1.393900</td>\n      <td>1.101900</td>\n      <td>0.735885</td>\n      <td>0.638420</td>\n      <td>0.627676</td>\n      <td>...</td>\n      <td>0.934068</td>\n      <td>1.128587</td>\n      <td>1.219441</td>\n      <td>0.695716</td>\n      <td>0.627451</td>\n      <td>0.688186</td>\n      <td>0.746180</td>\n      <td>1.045502</td>\n      <td>1.159930</td>\n      <td>1.105174</td>\n    </tr>\n    <tr>\n      <th>HOBBIES_1_004_CA_1_validation</th>\n      <td>2.269777</td>\n      <td>1.896678</td>\n      <td>2.006264</td>\n      <td>2.178946</td>\n      <td>3.122258</td>\n      <td>3.516603</td>\n      <td>6.376700</td>\n      <td>2.706575</td>\n      <td>1.981158</td>\n      <td>1.671011</td>\n      <td>...</td>\n      <td>2.594446</td>\n      <td>3.433750</td>\n      <td>4.380445</td>\n      <td>2.508877</td>\n      <td>1.975897</td>\n      <td>1.956410</td>\n      <td>1.980463</td>\n      <td>2.470356</td>\n      <td>4.523594</td>\n      <td>5.130705</td>\n    </tr>\n    <tr>\n      <th>HOBBIES_1_005_CA_1_validation</th>\n      <td>1.434355</td>\n      <td>1.357554</td>\n      <td>1.377943</td>\n      <td>1.564288</td>\n      <td>1.653915</td>\n      <td>1.851529</td>\n      <td>2.463148</td>\n      <td>1.450651</td>\n      <td>1.555874</td>\n      <td>1.586705</td>\n      <td>...</td>\n      <td>1.666913</td>\n      <td>2.482242</td>\n      <td>2.345882</td>\n      <td>1.559595</td>\n      <td>1.447221</td>\n      <td>1.533209</td>\n      <td>1.458662</td>\n      <td>1.786455</td>\n      <td>2.273549</td>\n      <td>2.100963</td>\n    </tr>\n    <tr>\n      <th>...</th>\n      <td>...</td>\n      <td>...</td>\n      <td>...</td>\n      <td>...</td>\n      <td>...</td>\n      <td>...</td>\n      <td>...</td>\n      <td>...</td>\n      <td>...</td>\n      <td>...</td>\n      <td>...</td>\n      <td>...</td>\n      <td>...</td>\n      <td>...</td>\n      <td>...</td>\n      <td>...</td>\n      <td>...</td>\n      <td>...</td>\n      <td>...</td>\n      <td>...</td>\n      <td>...</td>\n    </tr>\n    <tr>\n      <th>FOODS_3_823_WI_3_validation</th>\n      <td>0.492675</td>\n      <td>0.468403</td>\n      <td>0.455863</td>\n      <td>0.486331</td>\n      <td>0.573428</td>\n      <td>0.613145</td>\n      <td>0.683402</td>\n      <td>0.618166</td>\n      <td>0.648188</td>\n      <td>0.553734</td>\n      <td>...</td>\n      <td>0.831843</td>\n      <td>1.011858</td>\n      <td>1.180761</td>\n      <td>0.785358</td>\n      <td>0.718240</td>\n      <td>0.711875</td>\n      <td>0.661516</td>\n      <td>0.710622</td>\n      <td>0.843313</td>\n      <td>0.992907</td>\n    </tr>\n    <tr>\n      <th>FOODS_3_824_WI_3_validation</th>\n      <td>0.370379</td>\n      <td>0.362046</td>\n      <td>0.362660</td>\n      <td>0.353872</td>\n      <td>0.353439</td>\n      <td>0.435926</td>\n      <td>0.476093</td>\n      <td>0.541121</td>\n      <td>0.589753</td>\n      <td>0.471037</td>\n      <td>...</td>\n      <td>0.409066</td>\n      <td>0.565272</td>\n      <td>0.632221</td>\n      <td>0.421226</td>\n      <td>0.402811</td>\n      <td>0.405068</td>\n      <td>0.360103</td>\n      <td>0.339664</td>\n      <td>0.460004</td>\n      <td>0.465844</td>\n    </tr>\n    <tr>\n      <th>FOODS_3_825_WI_3_validation</th>\n      <td>0.944911</td>\n      <td>0.790598</td>\n      <td>0.756904</td>\n      <td>0.730590</td>\n      <td>0.870831</td>\n      <td>1.191074</td>\n      <td>1.287520</td>\n      <td>1.371480</td>\n      <td>1.306447</td>\n      <td>1.061000</td>\n      <td>...</td>\n      <td>1.343291</td>\n      <td>1.842612</td>\n      <td>2.107142</td>\n      <td>1.503622</td>\n      <td>1.235885</td>\n      <td>1.221307</td>\n      <td>0.974325</td>\n      <td>1.058810</td>\n      <td>1.260458</td>\n      <td>1.250518</td>\n    </tr>\n    <tr>\n      <th>FOODS_3_826_WI_3_validation</th>\n      <td>1.640884</td>\n      <td>1.623712</td>\n      <td>1.456660</td>\n      <td>1.411846</td>\n      <td>1.545207</td>\n      <td>1.959176</td>\n      <td>1.706732</td>\n      <td>1.786948</td>\n      <td>1.782756</td>\n      <td>1.405946</td>\n      <td>...</td>\n      <td>1.453397</td>\n      <td>1.982472</td>\n      <td>2.079446</td>\n      <td>1.699670</td>\n      <td>1.882297</td>\n      <td>1.698988</td>\n      <td>1.554018</td>\n      <td>1.702809</td>\n      <td>1.940990</td>\n      <td>2.056835</td>\n    </tr>\n    <tr>\n      <th>FOODS_3_827_WI_3_validation</th>\n      <td>1.854222</td>\n      <td>2.270609</td>\n      <td>2.147413</td>\n      <td>2.281251</td>\n      <td>2.644700</td>\n      <td>3.279207</td>\n      <td>2.877279</td>\n      <td>2.817101</td>\n      <td>2.581803</td>\n      <td>1.993666</td>\n      <td>...</td>\n      <td>2.407485</td>\n      <td>3.040571</td>\n      <td>2.886277</td>\n      <td>2.536843</td>\n      <td>2.688095</td>\n      <td>2.346628</td>\n      <td>2.245263</td>\n      <td>2.606373</td>\n      <td>3.053586</td>\n      <td>2.952713</td>\n    </tr>\n  </tbody>\n</table>\n<p>30490 rows × 28 columns</p>\n</div>"
     },
     "execution_count": 24,
     "metadata": {},
     "output_type": "execute_result"
    }
   ],
   "source": [
    "final_sub"
   ]
  },
  {
   "cell_type": "code",
   "outputs": [],
   "source": [],
   "metadata": {
    "collapsed": false,
    "ExecuteTime": {
     "end_time": "2024-04-09T20:27:38.105485Z",
     "start_time": "2024-04-09T20:27:38.092485Z"
    }
   },
   "execution_count": 9
  }
 ],
 "metadata": {
  "hide_input": false,
  "kernelspec": {
   "display_name": "Python 3",
   "language": "python",
   "name": "python3"
  },
  "language_info": {
   "codemirror_mode": {
    "name": "ipython",
    "version": 3
   },
   "file_extension": ".py",
   "mimetype": "text/x-python",
   "name": "python",
   "nbconvert_exporter": "python",
   "pygments_lexer": "ipython3",
   "version": "3.7.3"
  }
 },
 "nbformat": 4,
 "nbformat_minor": 2
}
